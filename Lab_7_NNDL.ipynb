{
  "nbformat": 4,
  "nbformat_minor": 0,
  "metadata": {
    "colab": {
      "provenance": [],
      "authorship_tag": "ABX9TyPoHLRuhOWW15tqIyax8dNO",
      "include_colab_link": true
    },
    "kernelspec": {
      "name": "python3",
      "display_name": "Python 3"
    },
    "language_info": {
      "name": "python"
    }
  },
  "cells": [
    {
      "cell_type": "markdown",
      "metadata": {
        "id": "view-in-github",
        "colab_type": "text"
      },
      "source": [
        "<a href=\"https://colab.research.google.com/github/Raynould-Joseph/Neural-Network-and-Deep-Learning/blob/main/Lab_7_NNDL.ipynb\" target=\"_parent\"><img src=\"https://colab.research.google.com/assets/colab-badge.svg\" alt=\"Open In Colab\"/></a>"
      ]
    },
    {
      "cell_type": "code",
      "execution_count": 1,
      "metadata": {
        "id": "AMDkLLf_NCXh"
      },
      "outputs": [],
      "source": [
        "def rbf(x, c, s):\n",
        "    return np.exp(-1 / (2 * s**2) * (x-c)**2)"
      ]
    },
    {
      "cell_type": "code",
      "source": [
        "def kmeans(X, k):\n",
        "    \"\"\"Performs k-means clustering for 1D input\n",
        "    \n",
        "    Arguments:\n",
        "        X {ndarray} -- A Mx1 array of inputs\n",
        "        k {int} -- Number of clusters\n",
        "    \n",
        "    Returns:\n",
        "        ndarray -- A kx1 array of final cluster centers\n",
        "    \"\"\"\n",
        "    # randomly select initial clusters from input data\n",
        "    clusters = np.random.choice(np.squeeze(X), size=k)\n",
        "    prevClusters = clusters.copy()\n",
        "    stds = np.zeros(k)\n",
        "    converged = False\n",
        "    while not converged:\n",
        "        \"\"\"\n",
        "        compute distances for each cluster center to each point \n",
        "        where (distances[i, j] represents the distance between the ith point and jth cluster)\n",
        "        \"\"\"\n",
        "        distances = np.squeeze(np.abs(X[:, np.newaxis] - clusters[np.newaxis, :]))\n",
        "        # find the cluster that's closest to each point\n",
        "        closestCluster = np.argmin(distances, axis=1)\n",
        "        # update clusters by taking the mean of all of the points assigned to that cluster\n",
        "        for i in range(k):\n",
        "            pointsForCluster = X[closestCluster == i]\n",
        "            if len(pointsForCluster) > 0:\n",
        "                clusters[i] = np.mean(pointsForCluster, axis=0)\n",
        "        # converge if clusters haven't moved\n",
        "        converged = np.linalg.norm(clusters - prevClusters) < 1e-6\n",
        "        prevClusters = clusters.copy()\n",
        "    distances = np.squeeze(np.abs(X[:, np.newaxis] - clusters[np.newaxis, :]))\n",
        "    closestCluster = np.argmin(distances, axis=1)\n",
        "    clustersWithNoPoints = []\n",
        "    for i in range(k):\n",
        "        pointsForCluster = X[closestCluster == i]\n",
        "        if len(pointsForCluster) < 2:\n",
        "            # keep track of clusters with no points or 1 point\n",
        "            clustersWithNoPoints.append(i)\n",
        "            continue\n",
        "        else:\n",
        "            stds[i] = np.std(X[closestCluster == i])\n",
        "    # if there are clusters with 0 or 1 points, take the mean std of the other clusters\n",
        "    if len(clustersWithNoPoints) > 0:\n",
        "        pointsToAverage = []\n",
        "        for i in range(k):\n",
        "            if i not in clustersWithNoPoints:\n",
        "                pointsToAverage.append(X[closestCluster == i])\n",
        "        pointsToAverage = np.concatenate(pointsToAverage).ravel()\n",
        "        stds[clustersWithNoPoints] = np.mean(np.std(pointsToAverage))\n",
        "    return clusters, stds"
      ],
      "metadata": {
        "id": "Cr2tEHlKOFS3"
      },
      "execution_count": 2,
      "outputs": []
    },
    {
      "cell_type": "code",
      "source": [
        "class RBFNet(object):\n",
        "    \"\"\"Implementation of a Radial Basis Function Network\"\"\"\n",
        "    def __init__(self, k=2, lr=0.01, epochs=100, rbf=rbf, inferStds=True):\n",
        "        self.k = k\n",
        "        self.lr = lr\n",
        "        self.epochs = epochs\n",
        "        self.rbf = rbf\n",
        "        self.inferStds = inferStds\n",
        "        self.w = np.random.randn(k)\n",
        "        self.b = np.random.randn(1)"
      ],
      "metadata": {
        "id": "4i9kyRZPOKKc"
      },
      "execution_count": 3,
      "outputs": []
    },
    {
      "cell_type": "code",
      "source": [
        "def fit(self, X, y):\n",
        "    if self.inferStds:\n",
        "        # compute stds from data\n",
        "        self.centers, self.stds = kmeans(X, self.k)\n",
        "    else:\n",
        "        # use a fixed std \n",
        "        self.centers, _ = kmeans(X, self.k)\n",
        "        dMax = max([np.abs(c1 - c2) for c1 in self.centers for c2 in self.centers])\n",
        "        self.stds = np.repeat(dMax / np.sqrt(2*self.k), self.k)\n",
        "    # training\n",
        "    for epoch in range(self.epochs):\n",
        "        for i in range(X.shape[0]):\n",
        "            # forward pass\n",
        "            a = np.array([self.rbf(X[i], c, s) for c, s, in zip(self.centers, self.stds)])\n",
        "            F = a.T.dot(self.w) + self.b\n",
        "            loss = (y[i] - F).flatten() ** 2\n",
        "            print('Loss: {0:.2f}'.format(loss[0]))\n",
        "            # backward pass\n",
        "            error = -(y[i] - F).flatten()\n",
        "            # online update\n",
        "            self.w = self.w - self.lr * a * error\n",
        "            self.b = self.b - self.lr * error"
      ],
      "metadata": {
        "id": "WqZYezK-OPUx"
      },
      "execution_count": 4,
      "outputs": []
    },
    {
      "cell_type": "code",
      "source": [
        "def predict(self, X):\n",
        "    y_pred = []\n",
        "    for i in range(X.shape[0]):\n",
        "        a = np.array([self.rbf(X[i], c, s) for c, s, in zip(self.centers, self.stds)])\n",
        "        F = a.T.dot(self.w) + self.b\n",
        "        y_pred.append(F)\n",
        "    return np.array(y_pred)"
      ],
      "metadata": {
        "id": "BiJoOjtiOTK1"
      },
      "execution_count": 5,
      "outputs": []
    },
    {
      "cell_type": "code",
      "source": [
        "# sample inputs and add noise\n",
        "import numpy as np\n",
        "NUM_SAMPLES = 100\n",
        "X = np.random.uniform(0., 1., NUM_SAMPLES)\n",
        "X = np.sort(X, axis=0)\n",
        "noise = np.random.uniform(-0.1, 0.1, NUM_SAMPLES)\n",
        "y = np.sin(2 * np.pi * X)  + noise\n",
        "rbfnet = RBFNet(lr=1e-2, k=2)\n",
        "rbfnet.fit(X, y)\n",
        "y_pred = rbfnet.predict(X)\n",
        "plt.plot(X, y, '-o', label='true')\n",
        "plt.plot(X, y_pred, '-o', label='RBF-Net')\n",
        "plt.legend()\n",
        "plt.tight_layout()\n",
        "plt.show()"
      ],
      "metadata": {
        "colab": {
          "base_uri": "https://localhost:8080/",
          "height": 244
        },
        "id": "42LwFY_1OZEi",
        "outputId": "d2fc5eea-593c-4e11-8fe3-0d00b270bd29"
      },
      "execution_count": 8,
      "outputs": [
        {
          "output_type": "error",
          "ename": "AttributeError",
          "evalue": "ignored",
          "traceback": [
            "\u001b[0;31m---------------------------------------------------------------------------\u001b[0m",
            "\u001b[0;31mAttributeError\u001b[0m                            Traceback (most recent call last)",
            "\u001b[0;32m<ipython-input-8-a9b25dc160ec>\u001b[0m in \u001b[0;36m<module>\u001b[0;34m\u001b[0m\n\u001b[1;32m      7\u001b[0m \u001b[0my\u001b[0m \u001b[0;34m=\u001b[0m \u001b[0mnp\u001b[0m\u001b[0;34m.\u001b[0m\u001b[0msin\u001b[0m\u001b[0;34m(\u001b[0m\u001b[0;36m2\u001b[0m \u001b[0;34m*\u001b[0m \u001b[0mnp\u001b[0m\u001b[0;34m.\u001b[0m\u001b[0mpi\u001b[0m \u001b[0;34m*\u001b[0m \u001b[0mX\u001b[0m\u001b[0;34m)\u001b[0m  \u001b[0;34m+\u001b[0m \u001b[0mnoise\u001b[0m\u001b[0;34m\u001b[0m\u001b[0;34m\u001b[0m\u001b[0m\n\u001b[1;32m      8\u001b[0m \u001b[0mrbfnet\u001b[0m \u001b[0;34m=\u001b[0m \u001b[0mRBFNet\u001b[0m\u001b[0;34m(\u001b[0m\u001b[0mlr\u001b[0m\u001b[0;34m=\u001b[0m\u001b[0;36m1e-2\u001b[0m\u001b[0;34m,\u001b[0m \u001b[0mk\u001b[0m\u001b[0;34m=\u001b[0m\u001b[0;36m2\u001b[0m\u001b[0;34m)\u001b[0m\u001b[0;34m\u001b[0m\u001b[0;34m\u001b[0m\u001b[0m\n\u001b[0;32m----> 9\u001b[0;31m \u001b[0mrbfnet\u001b[0m\u001b[0;34m.\u001b[0m\u001b[0mfit\u001b[0m\u001b[0;34m(\u001b[0m\u001b[0mX\u001b[0m\u001b[0;34m,\u001b[0m \u001b[0my\u001b[0m\u001b[0;34m)\u001b[0m\u001b[0;34m\u001b[0m\u001b[0;34m\u001b[0m\u001b[0m\n\u001b[0m\u001b[1;32m     10\u001b[0m \u001b[0my_pred\u001b[0m \u001b[0;34m=\u001b[0m \u001b[0mrbfnet\u001b[0m\u001b[0;34m.\u001b[0m\u001b[0mpredict\u001b[0m\u001b[0;34m(\u001b[0m\u001b[0mX\u001b[0m\u001b[0;34m)\u001b[0m\u001b[0;34m\u001b[0m\u001b[0;34m\u001b[0m\u001b[0m\n\u001b[1;32m     11\u001b[0m \u001b[0mplt\u001b[0m\u001b[0;34m.\u001b[0m\u001b[0mplot\u001b[0m\u001b[0;34m(\u001b[0m\u001b[0mX\u001b[0m\u001b[0;34m,\u001b[0m \u001b[0my\u001b[0m\u001b[0;34m,\u001b[0m \u001b[0;34m'-o'\u001b[0m\u001b[0;34m,\u001b[0m \u001b[0mlabel\u001b[0m\u001b[0;34m=\u001b[0m\u001b[0;34m'true'\u001b[0m\u001b[0;34m)\u001b[0m\u001b[0;34m\u001b[0m\u001b[0;34m\u001b[0m\u001b[0m\n",
            "\u001b[0;31mAttributeError\u001b[0m: 'RBFNet' object has no attribute 'fit'"
          ]
        }
      ]
    }
  ]
}