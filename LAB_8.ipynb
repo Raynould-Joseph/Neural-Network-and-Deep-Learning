{
  "nbformat": 4,
  "nbformat_minor": 0,
  "metadata": {
    "colab": {
      "provenance": [],
      "authorship_tag": "ABX9TyP11rXbOPNgjgFGF/nSldyI",
      "include_colab_link": true
    },
    "kernelspec": {
      "name": "python3",
      "display_name": "Python 3"
    },
    "language_info": {
      "name": "python"
    }
  },
  "cells": [
    {
      "cell_type": "markdown",
      "metadata": {
        "id": "view-in-github",
        "colab_type": "text"
      },
      "source": [
        "<a href=\"https://colab.research.google.com/github/Raynould-Joseph/Neural-Network-and-Deep-Learning/blob/main/LAB_8.ipynb\" target=\"_parent\"><img src=\"https://colab.research.google.com/assets/colab-badge.svg\" alt=\"Open In Colab\"/></a>"
      ]
    },
    {
      "cell_type": "code",
      "execution_count": null,
      "metadata": {
        "id": "fIg_DODrc3Ay"
      },
      "outputs": [],
      "source": []
    },
    {
      "cell_type": "markdown",
      "source": [
        "a. Take an input matrix with size 5x5 and a kernel with size 3x3, perform\n",
        "convolution with stride being 1 and 2."
      ],
      "metadata": {
        "id": "DM1HJDSaD5tR"
      }
    },
    {
      "cell_type": "code",
      "source": [
        "import numpy as np\n",
        "x=np.array([[1,1,1,1,0],[1,1,1,0,0],[0,1,1,1,0],[0,1,0,0,1],[0,1,0,1,0]])\n",
        "w=np.array([[0,0,0],[1,1,1],[1,1,0]])"
      ],
      "metadata": {
        "id": "aj9kWpDxCzvy"
      },
      "execution_count": null,
      "outputs": []
    },
    {
      "cell_type": "code",
      "source": [
        "print(\"Padding -1\")\n",
        "print(x)\n",
        "print(w)\n",
        "y=np.zeros((3,3),int)\n",
        "print(y)\n",
        "\n",
        "#padding -1\n",
        "#row 0\n",
        "y[0,0]=np.sum(x[0:3,0:3]*w)\n",
        "y[0,1]=np.sum(x[0:3,1:4]*w)\n",
        "y[0,2]=np.sum(x[0:3,2:5]*w)\n",
        "#row 1\n",
        "y[1,0]=np.sum(x[1:4,0:3]*w)\n",
        "y[1,1]=np.sum(x[1:4,1:4]*w)\n",
        "y[1,2]=np.sum(x[1:4,2:5]*w)\n",
        "#row 2\n",
        "y[2,0]=np.sum(x[2:5,0:3]*w)\n",
        "y[2,1]=np.sum(x[2:5,1:4]*w)\n",
        "y[2,2]=np.sum(x[2:5,2:5]*w)\n",
        "# #row 3\n",
        "# y[3,0]=np.sum(x[3:6,0:3]*w)\n",
        "# y[3,1]=np.sum(x[3:6,1:4]*w)\n",
        "# y[3,2]=np.sum(x[3:6,2:5]*w)\n",
        "# #row 4\n",
        "# y[4,0]=np.sum(x[4:7,0:3]*w)\n",
        "# y[4,1]=np.sum(x[4:7,1:4]*w)\n",
        "# y[4,2]=np.sum(x[4:7,2:5]*w)\n",
        "\n",
        "print(y)\n",
        "\n",
        "print(\"--------------------------\")\n",
        "print(\"Padding -2\")\n",
        "#padding 2\n",
        "print(x)\n",
        "print(w)\n",
        "y=np.zeros((2,2),int)\n",
        "print(y)\n",
        "#row 0\n",
        "y[0,0]=np.sum(x[0:3,0:3]*w)\n",
        "y[0,1]=np.sum(x[0:3,2:5]*w)\n",
        "#row 1\n",
        "y[1,0]=np.sum(x[2:5,0:3]*w)\n",
        "y[1,1]=np.sum(x[2:5,2:5]*w)\n",
        "\n",
        "print(y)\n"
      ],
      "metadata": {
        "colab": {
          "base_uri": "https://localhost:8080/"
        },
        "id": "zLquo5LV9LDJ",
        "outputId": "120b4cde-3e92-4e80-a131-3578e66b3e25"
      },
      "execution_count": null,
      "outputs": [
        {
          "output_type": "stream",
          "name": "stdout",
          "text": [
            "Padding -1\n",
            "[[1 1 1 1 0]\n",
            " [1 1 1 0 0]\n",
            " [0 1 1 1 0]\n",
            " [0 1 0 0 1]\n",
            " [0 1 0 1 0]]\n",
            "[[0 0 0]\n",
            " [1 1 1]\n",
            " [1 1 0]]\n",
            "[[0 0 0]\n",
            " [0 0 0]\n",
            " [0 0 0]]\n",
            "[[1 4 3]\n",
            " [3 4 2]\n",
            " [2 2 2]]\n",
            "--------------------------\n",
            "Padding -2\n",
            "[[1 1 1 1 0]\n",
            " [1 1 1 0 0]\n",
            " [0 1 1 1 0]\n",
            " [0 1 0 0 1]\n",
            " [0 1 0 1 0]]\n",
            "[[0 0 0]\n",
            " [1 1 1]\n",
            " [1 1 0]]\n",
            "[[0 0]\n",
            " [0 0]]\n",
            "[[4 3]\n",
            " [2 2]]\n"
          ]
        }
      ]
    },
    {
      "cell_type": "markdown",
      "source": [
        "b. Apply max-pooling, average-pooling and sum-pooling to the results\n",
        "from above convolutions."
      ],
      "metadata": {
        "id": "JfX5Vi7-D8G9"
      }
    },
    {
      "cell_type": "code",
      "source": [
        "print(\"max-pooling\")\n",
        "\n",
        "print(\"Padding -1\")\n",
        "print(x)\n",
        "print(w)\n",
        "y=np.zeros((3,3),int)\n",
        "print(y)\n",
        "\n",
        "#padding -1\n",
        "#row 0\n",
        "y[0,0]=np.max(x[0:3,0:3]*w)\n",
        "y[0,1]=np.max(x[0:3,1:4]*w)\n",
        "y[0,2]=np.max(x[0:3,2:5]*w)\n",
        "#row 1\n",
        "y[1,0]=np.max(x[1:4,0:3]*w)\n",
        "y[1,1]=np.max(x[1:4,1:4]*w)\n",
        "y[1,2]=np.max(x[1:4,2:5]*w)\n",
        "#row 2\n",
        "y[2,0]=np.max(x[2:5,0:3]*w)\n",
        "y[2,1]=np.max(x[2:5,1:4]*w)\n",
        "y[2,2]=np.max(x[2:5,2:5]*w)\n",
        "# #row 3\n",
        "# y[3,0]=np.sum(x[3:6,0:3]*w)\n",
        "# y[3,1]=np.sum(x[3:6,1:4]*w)\n",
        "# y[3,2]=np.sum(x[3:6,2:5]*w)\n",
        "# #row 4\n",
        "# y[4,0]=np.sum(x[4:7,0:3]*w)\n",
        "# y[4,1]=np.sum(x[4:7,1:4]*w)\n",
        "# y[4,2]=np.sum(x[4:7,2:5]*w)\n",
        "\n",
        "print(y)\n",
        "max_pool_1=y\n",
        "\n",
        "print(\"--------------------------\")\n",
        "print(\"Padding -2\")\n",
        "#padding 2\n",
        "print(x)\n",
        "print(w)\n",
        "y=np.zeros((2,2),int)\n",
        "print(y)\n",
        "#row 0\n",
        "y[0,0]=np.max(x[0:3,0:3]*w)\n",
        "y[0,1]=np.max(x[0:3,2:5]*w)\n",
        "#row 1\n",
        "y[1,0]=np.max(x[2:5,0:3]*w)\n",
        "y[1,1]=np.max(x[2:5,2:5]*w)\n",
        "\n",
        "print(y)\n",
        "max_pool_2=y\n",
        "\"\"\"----------------------------------------------\"\"\"\n",
        "print(\"Average-pooling\")\n",
        "print(\"Padding -1\")\n",
        "print(x)\n",
        "print(w)\n",
        "y=np.zeros((3,3),int)\n",
        "print(y)\n",
        "\n",
        "#padding -1\n",
        "#row 0\n",
        "y[0,0]=np.average(x[0:3,0:3]*w)\n",
        "y[0,1]=np.average(x[0:3,1:4]*w)\n",
        "y[0,2]=np.average(x[0:3,2:5]*w)\n",
        "#row 1\n",
        "y[1,0]=np.average(x[1:4,0:3]*w)\n",
        "y[1,1]=np.average(x[1:4,1:4]*w)\n",
        "y[1,2]=np.average(x[1:4,2:5]*w)\n",
        "#row 2\n",
        "y[2,0]=np.average(x[2:5,0:3]*w)\n",
        "y[2,1]=np.average(x[2:5,1:4]*w)\n",
        "y[2,2]=np.average(x[2:5,2:5]*w)\n",
        "# #row 3\n",
        "# y[3,0]=np.sum(x[3:6,0:3]*w)\n",
        "# y[3,1]=np.sum(x[3:6,1:4]*w)\n",
        "# y[3,2]=np.sum(x[3:6,2:5]*w)\n",
        "# #row 4\n",
        "# y[4,0]=np.sum(x[4:7,0:3]*w)\n",
        "# y[4,1]=np.sum(x[4:7,1:4]*w)\n",
        "# y[4,2]=np.sum(x[4:7,2:5]*w)\n",
        "\n",
        "print(y)\n",
        "avg_pool_1=y\n",
        "\n",
        "print(\"--------------------------\")\n",
        "print(\"Padding -2\")\n",
        "#padding 2\n",
        "print(x)\n",
        "print(w)\n",
        "y=np.zeros((2,2),int)\n",
        "print(y)\n",
        "#row 0\n",
        "y[0,0]=np.average(x[0:3,0:3]*w)\n",
        "y[0,1]=np.average(x[0:3,2:5]*w)\n",
        "#row 1\n",
        "y[1,0]=np.average(x[2:5,0:3]*w)\n",
        "y[1,1]=np.average(x[2:5,2:5]*w)\n",
        "\n",
        "print(y)\n",
        "avg_pool_2=y\n",
        "\n",
        "\"\"\"----------------------------------------------\"\"\"\n",
        "\n",
        "print(\"Sum-pooling\")\n",
        "print(\"Padding -1\")\n",
        "print(x)\n",
        "print(w)\n",
        "y=np.zeros((3,3),int)\n",
        "print(y)\n",
        "\n",
        "#padding -1\n",
        "#row 0\n",
        "y[0,0]=np.sum(x[0:3,0:3]*w)\n",
        "y[0,1]=np.sum(x[0:3,1:4]*w)\n",
        "y[0,2]=np.sum(x[0:3,2:5]*w)\n",
        "#row 1\n",
        "y[1,0]=np.sum(x[1:4,0:3]*w)\n",
        "y[1,1]=np.sum(x[1:4,1:4]*w)\n",
        "y[1,2]=np.sum(x[1:4,2:5]*w)\n",
        "#row 2\n",
        "y[2,0]=np.sum(x[2:5,0:3]*w)\n",
        "y[2,1]=np.sum(x[2:5,1:4]*w)\n",
        "y[2,2]=np.sum(x[2:5,2:5]*w)\n",
        "# #row 3\n",
        "# y[3,0]=np.sum(x[3:6,0:3]*w)\n",
        "# y[3,1]=np.sum(x[3:6,1:4]*w)\n",
        "# y[3,2]=np.sum(x[3:6,2:5]*w)\n",
        "# #row 4\n",
        "# y[4,0]=np.sum(x[4:7,0:3]*w)\n",
        "# y[4,1]=np.sum(x[4:7,1:4]*w)\n",
        "# y[4,2]=np.sum(x[4:7,2:5]*w)\n",
        "\n",
        "print(y)\n",
        "sum_pool_1=y\n",
        "\n",
        "print(\"--------------------------\")\n",
        "print(\"Padding -2\")\n",
        "#padding 2\n",
        "print(x)\n",
        "print(w)\n",
        "y=np.zeros((2,2),int)\n",
        "print(y)\n",
        "#row 0\n",
        "y[0,0]=np.sum(x[0:3,0:3]*w)\n",
        "y[0,1]=np.sum(x[0:3,2:5]*w)\n",
        "#row 1\n",
        "y[1,0]=np.sum(x[2:5,0:3]*w)\n",
        "y[1,1]=np.sum(x[2:5,2:5]*w)\n",
        "\n",
        "print(y)\n",
        "sum_pool_2=y\n",
        "\n",
        "\n",
        "\n",
        "\n",
        "\n"
      ],
      "metadata": {
        "colab": {
          "base_uri": "https://localhost:8080/"
        },
        "id": "4aPsG4TNECUi",
        "outputId": "3172b835-6854-46ce-a32b-9e1ac071fd3b"
      },
      "execution_count": null,
      "outputs": [
        {
          "output_type": "stream",
          "name": "stdout",
          "text": [
            "max-pooling\n",
            "Padding -1\n",
            "[[1 1 1 1 0]\n",
            " [1 1 1 0 0]\n",
            " [0 1 1 1 0]\n",
            " [0 1 0 0 1]\n",
            " [0 1 0 1 0]]\n",
            "[[0 0 0]\n",
            " [1 1 1]\n",
            " [1 1 0]]\n",
            "[[0 0 0]\n",
            " [0 0 0]\n",
            " [0 0 0]]\n",
            "[[1 1 1]\n",
            " [1 1 1]\n",
            " [1 1 1]]\n",
            "--------------------------\n",
            "Padding -2\n",
            "[[1 1 1 1 0]\n",
            " [1 1 1 0 0]\n",
            " [0 1 1 1 0]\n",
            " [0 1 0 0 1]\n",
            " [0 1 0 1 0]]\n",
            "[[0 0 0]\n",
            " [1 1 1]\n",
            " [1 1 0]]\n",
            "[[0 0]\n",
            " [0 0]]\n",
            "[[1 1]\n",
            " [1 1]]\n",
            "Average-pooling\n",
            "Padding -1\n",
            "[[1 1 1 1 0]\n",
            " [1 1 1 0 0]\n",
            " [0 1 1 1 0]\n",
            " [0 1 0 0 1]\n",
            " [0 1 0 1 0]]\n",
            "[[0 0 0]\n",
            " [1 1 1]\n",
            " [1 1 0]]\n",
            "[[0 0 0]\n",
            " [0 0 0]\n",
            " [0 0 0]]\n",
            "[[0 0 0]\n",
            " [0 0 0]\n",
            " [0 0 0]]\n",
            "--------------------------\n",
            "Padding -2\n",
            "[[1 1 1 1 0]\n",
            " [1 1 1 0 0]\n",
            " [0 1 1 1 0]\n",
            " [0 1 0 0 1]\n",
            " [0 1 0 1 0]]\n",
            "[[0 0 0]\n",
            " [1 1 1]\n",
            " [1 1 0]]\n",
            "[[0 0]\n",
            " [0 0]]\n",
            "[[0 0]\n",
            " [0 0]]\n",
            "Sum-pooling\n",
            "Padding -1\n",
            "[[1 1 1 1 0]\n",
            " [1 1 1 0 0]\n",
            " [0 1 1 1 0]\n",
            " [0 1 0 0 1]\n",
            " [0 1 0 1 0]]\n",
            "[[0 0 0]\n",
            " [1 1 1]\n",
            " [1 1 0]]\n",
            "[[0 0 0]\n",
            " [0 0 0]\n",
            " [0 0 0]]\n",
            "[[4 4 3]\n",
            " [3 4 2]\n",
            " [2 2 2]]\n",
            "--------------------------\n",
            "Padding -2\n",
            "[[1 1 1 1 0]\n",
            " [1 1 1 0 0]\n",
            " [0 1 1 1 0]\n",
            " [0 1 0 0 1]\n",
            " [0 1 0 1 0]]\n",
            "[[0 0 0]\n",
            " [1 1 1]\n",
            " [1 1 0]]\n",
            "[[0 0]\n",
            " [0 0]]\n",
            "[[4 3]\n",
            " [2 2]]\n"
          ]
        }
      ]
    },
    {
      "cell_type": "markdown",
      "source": [
        "c. Visualize the flattened version of the pooled feature maps from [Q1b]"
      ],
      "metadata": {
        "id": "dd7AieULEE7A"
      }
    },
    {
      "cell_type": "code",
      "source": [
        "flat = [x for row in max_pool_1 for x in row]\n",
        "print(flat)\n",
        "flat = [x for row in max_pool_2 for x in row]\n",
        "print(flat)\n",
        "flat = [x for row in avg_pool_1 for x in row]\n",
        "print(flat)\n",
        "flat = [x for row in avg_pool_2 for x in row]\n",
        "print(flat)\n",
        "flat = [x for row in sum_pool_1 for x in row]\n",
        "print(flat)\n",
        "flat = [x for row in sum_pool_2 for x in row]\n",
        "print(flat)\n"
      ],
      "metadata": {
        "colab": {
          "base_uri": "https://localhost:8080/"
        },
        "id": "YG_9QcGNEFdQ",
        "outputId": "02e3ce9f-9985-4403-f181-eac06a407bba"
      },
      "execution_count": null,
      "outputs": [
        {
          "output_type": "stream",
          "name": "stdout",
          "text": [
            "[8, 8, 8, 8, 8, 8, 8, 8, 8]\n",
            "[1, 1, 1, 1]\n",
            "[0, 0, 0, 0, 0, 0, 0, 0, 0]\n",
            "[0, 0, 0, 0]\n",
            "[4, 4, 3, 3, 4, 2, 2, 2, 2]\n",
            "[4, 3, 2, 2]\n"
          ]
        }
      ]
    },
    {
      "cell_type": "markdown",
      "source": [
        "d. With weights being randomly chosen and bias being 1, learn the\n",
        "weights and bias over an epoch for the flattened arrays from [Q1c]"
      ],
      "metadata": {
        "id": "LzObuzZiEG9S"
      }
    },
    {
      "cell_type": "code",
      "source": [],
      "metadata": {
        "id": "JxAqVraVEHaa"
      },
      "execution_count": null,
      "outputs": []
    }
  ]
}