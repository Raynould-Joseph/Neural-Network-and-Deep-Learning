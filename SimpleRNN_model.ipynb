{
  "nbformat": 4,
  "nbformat_minor": 0,
  "metadata": {
    "colab": {
      "provenance": [],
      "authorship_tag": "ABX9TyNoyLV/hpfO0QNOecWTb99I",
      "include_colab_link": true
    },
    "kernelspec": {
      "name": "python3",
      "display_name": "Python 3"
    },
    "language_info": {
      "name": "python"
    }
  },
  "cells": [
    {
      "cell_type": "markdown",
      "metadata": {
        "id": "view-in-github",
        "colab_type": "text"
      },
      "source": [
        "<a href=\"https://colab.research.google.com/github/Raynould-Joseph/Neural-Network-and-Deep-Learning/blob/main/SimpleRNN_model.ipynb\" target=\"_parent\"><img src=\"https://colab.research.google.com/assets/colab-badge.svg\" alt=\"Open In Colab\"/></a>"
      ]
    },
    {
      "cell_type": "markdown",
      "source": [
        "1. Implement the given tasks in sequence\n",
        "a. Generating sample dataset/use any open data set\n",
        "b. Preprocess data (reshaping)\n",
        "c. Building a SimpleRNN model\n",
        "d. Print or plot the prediction results\n",
        "\n",
        "2. Rebuild a GRU or LSTM model from a textbook or online sources for text\n",
        "classification. Interpret your observations during the lab evaluation. [optional\n",
        "question for additional learning]"
      ],
      "metadata": {
        "id": "sajakN7eRmxg"
      }
    },
    {
      "cell_type": "code",
      "execution_count": null,
      "metadata": {
        "id": "AE8W4fqjRjKm"
      },
      "outputs": [],
      "source": []
    },
    {
      "cell_type": "markdown",
      "source": [],
      "metadata": {
        "id": "ib1ZUaBlRllx"
      }
    },
    {
      "cell_type": "markdown",
      "source": [],
      "metadata": {
        "id": "hKaPWFvURlux"
      }
    }
  ]
}