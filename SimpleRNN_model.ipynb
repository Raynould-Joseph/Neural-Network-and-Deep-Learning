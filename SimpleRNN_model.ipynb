{
  "nbformat": 4,
  "nbformat_minor": 0,
  "metadata": {
    "colab": {
      "provenance": [],
      "authorship_tag": "ABX9TyPFsUGLoM3iwaPU0f+bML1V",
      "include_colab_link": true
    },
    "kernelspec": {
      "name": "python3",
      "display_name": "Python 3"
    },
    "language_info": {
      "name": "python"
    }
  },
  "cells": [
    {
      "cell_type": "markdown",
      "metadata": {
        "id": "view-in-github",
        "colab_type": "text"
      },
      "source": [
        "<a href=\"https://colab.research.google.com/github/Raynould-Joseph/Neural-Network-and-Deep-Learning/blob/main/SimpleRNN_model.ipynb\" target=\"_parent\"><img src=\"https://colab.research.google.com/assets/colab-badge.svg\" alt=\"Open In Colab\"/></a>"
      ]
    },
    {
      "cell_type": "markdown",
      "source": [
        "1. Implement the given tasks in sequence\n",
        "a. Generating sample dataset/use any open data set\n",
        "b. Preprocess data (reshaping)\n",
        "c. Building a SimpleRNN model\n",
        "d. Print or plot the prediction results\n",
        "\n",
        "2. Rebuild a GRU or LSTM model from a textbook or online sources for text\n",
        "classification. Interpret your observations during the lab evaluation. [optional\n",
        "question for additional learning]"
      ],
      "metadata": {
        "id": "sajakN7eRmxg"
      }
    },
    {
      "cell_type": "code",
      "execution_count": null,
      "metadata": {
        "id": "AE8W4fqjRjKm"
      },
      "outputs": [],
      "source": []
    },
    {
      "cell_type": "code",
      "execution_count": null,
      "metadata": {
        "execution": {
          "iopub.execute_input": "2020-08-16T13:07:17.014021Z",
          "iopub.status.busy": "2020-08-16T13:07:17.012985Z",
          "iopub.status.idle": "2020-08-16T13:07:20.643198Z",
          "shell.execute_reply": "2020-08-16T13:07:20.642315Z"
        },
        "papermill": {
          "duration": 3.651227,
          "end_time": "2020-08-16T13:07:20.643361",
          "exception": false,
          "start_time": "2020-08-16T13:07:16.992134",
          "status": "completed"
        },
        "tags": [],
        "id": "hwqbT8N-ZT3c"
      },
      "outputs": [],
      "source": [
        "# import necessary libraries\n",
        "import os\n",
        "import torch\n",
        "import warnings\n",
        "import numpy as np\n",
        "import pandas as pd\n",
        "import seaborn as sns\n",
        "import matplotlib.pyplot as plt\n",
        "from sklearn.preprocessing import StandardScaler\n",
        "from sklearn.model_selection import train_test_split"
      ]
    },
    {
      "cell_type": "code",
      "execution_count": null,
      "metadata": {
        "execution": {
          "iopub.execute_input": "2020-08-16T13:07:20.710952Z",
          "iopub.status.busy": "2020-08-16T13:07:20.709861Z",
          "iopub.status.idle": "2020-08-16T13:07:20.713206Z",
          "shell.execute_reply": "2020-08-16T13:07:20.713807Z"
        },
        "papermill": {
          "duration": 0.022733,
          "end_time": "2020-08-16T13:07:20.713983",
          "exception": false,
          "start_time": "2020-08-16T13:07:20.691250",
          "status": "completed"
        },
        "tags": [],
        "id": "p1ahtnbuZT3c"
      },
      "outputs": [],
      "source": [
        "%matplotlib inline"
      ]
    },
    {
      "cell_type": "code",
      "execution_count": null,
      "metadata": {
        "execution": {
          "iopub.execute_input": "2020-08-16T13:07:20.744081Z",
          "iopub.status.busy": "2020-08-16T13:07:20.743090Z",
          "iopub.status.idle": "2020-08-16T13:07:20.772693Z",
          "shell.execute_reply": "2020-08-16T13:07:20.771771Z"
        },
        "papermill": {
          "duration": 0.048889,
          "end_time": "2020-08-16T13:07:20.772857",
          "exception": false,
          "start_time": "2020-08-16T13:07:20.723968",
          "status": "completed"
        },
        "tags": [],
        "id": "-KyqV6osZT3c"
      },
      "outputs": [],
      "source": [
        "# load the dataset\n",
        "data = pd.read_csv('data.csv')"
      ]
    },
    {
      "cell_type": "code",
      "execution_count": null,
      "metadata": {
        "execution": {
          "iopub.execute_input": "2020-08-16T13:07:20.800017Z",
          "iopub.status.busy": "2020-08-16T13:07:20.799025Z",
          "iopub.status.idle": "2020-08-16T13:07:20.925805Z",
          "shell.execute_reply": "2020-08-16T13:07:20.924859Z"
        },
        "papermill": {
          "duration": 0.142672,
          "end_time": "2020-08-16T13:07:20.925990",
          "exception": false,
          "start_time": "2020-08-16T13:07:20.783318",
          "status": "completed"
        },
        "tags": [],
        "colab": {
          "base_uri": "https://localhost:8080/"
        },
        "outputId": "3f8694c6-690f-4ca2-f6c6-33d982693a3c",
        "id": "dZ1k8CQfZT3c"
      },
      "outputs": [
        {
          "output_type": "stream",
          "name": "stdout",
          "text": [
            "<class 'pandas.core.frame.DataFrame'>\n",
            "RangeIndex: 569 entries, 0 to 568\n",
            "Data columns (total 33 columns):\n",
            " #   Column                   Non-Null Count  Dtype  \n",
            "---  ------                   --------------  -----  \n",
            " 0   id                       569 non-null    int64  \n",
            " 1   diagnosis                569 non-null    object \n",
            " 2   radius_mean              569 non-null    float64\n",
            " 3   texture_mean             569 non-null    float64\n",
            " 4   perimeter_mean           569 non-null    float64\n",
            " 5   area_mean                569 non-null    float64\n",
            " 6   smoothness_mean          569 non-null    float64\n",
            " 7   compactness_mean         569 non-null    float64\n",
            " 8   concavity_mean           569 non-null    float64\n",
            " 9   concave points_mean      569 non-null    float64\n",
            " 10  symmetry_mean            569 non-null    float64\n",
            " 11  fractal_dimension_mean   569 non-null    float64\n",
            " 12  radius_se                569 non-null    float64\n",
            " 13  texture_se               569 non-null    float64\n",
            " 14  perimeter_se             569 non-null    float64\n",
            " 15  area_se                  569 non-null    float64\n",
            " 16  smoothness_se            569 non-null    float64\n",
            " 17  compactness_se           569 non-null    float64\n",
            " 18  concavity_se             569 non-null    float64\n",
            " 19  concave points_se        569 non-null    float64\n",
            " 20  symmetry_se              569 non-null    float64\n",
            " 21  fractal_dimension_se     569 non-null    float64\n",
            " 22  radius_worst             569 non-null    float64\n",
            " 23  texture_worst            569 non-null    float64\n",
            " 24  perimeter_worst          569 non-null    float64\n",
            " 25  area_worst               569 non-null    float64\n",
            " 26  smoothness_worst         569 non-null    float64\n",
            " 27  compactness_worst        569 non-null    float64\n",
            " 28  concavity_worst          569 non-null    float64\n",
            " 29  concave points_worst     569 non-null    float64\n",
            " 30  symmetry_worst           569 non-null    float64\n",
            " 31  fractal_dimension_worst  569 non-null    float64\n",
            " 32  Unnamed: 32              0 non-null      float64\n",
            "dtypes: float64(31), int64(1), object(1)\n",
            "memory usage: 146.8+ KB\n"
          ]
        }
      ],
      "source": [
        "# check for basic information\n",
        "data.info()"
      ]
    },
    {
      "cell_type": "code",
      "execution_count": null,
      "metadata": {
        "execution": {
          "iopub.execute_input": "2020-08-16T13:07:20.976146Z",
          "iopub.status.busy": "2020-08-16T13:07:20.974970Z",
          "iopub.status.idle": "2020-08-16T13:07:20.997415Z",
          "shell.execute_reply": "2020-08-16T13:07:20.996585Z"
        },
        "papermill": {
          "duration": 0.06034,
          "end_time": "2020-08-16T13:07:20.997606",
          "exception": false,
          "start_time": "2020-08-16T13:07:20.937266",
          "status": "completed"
        },
        "tags": [],
        "colab": {
          "base_uri": "https://localhost:8080/",
          "height": 317
        },
        "outputId": "930fe5be-da05-46b1-aea1-569ddfb62eee",
        "id": "Wzz9zBfvZT3d"
      },
      "outputs": [
        {
          "output_type": "execute_result",
          "data": {
            "text/plain": [
              "         id diagnosis  radius_mean  texture_mean  perimeter_mean  area_mean  \\\n",
              "0    842302         M        17.99         10.38          122.80     1001.0   \n",
              "1    842517         M        20.57         17.77          132.90     1326.0   \n",
              "2  84300903         M        19.69         21.25          130.00     1203.0   \n",
              "3  84348301         M        11.42         20.38           77.58      386.1   \n",
              "4  84358402         M        20.29         14.34          135.10     1297.0   \n",
              "\n",
              "   smoothness_mean  compactness_mean  concavity_mean  concave points_mean  \\\n",
              "0          0.11840           0.27760          0.3001              0.14710   \n",
              "1          0.08474           0.07864          0.0869              0.07017   \n",
              "2          0.10960           0.15990          0.1974              0.12790   \n",
              "3          0.14250           0.28390          0.2414              0.10520   \n",
              "4          0.10030           0.13280          0.1980              0.10430   \n",
              "\n",
              "   ...  texture_worst  perimeter_worst  area_worst  smoothness_worst  \\\n",
              "0  ...          17.33           184.60      2019.0            0.1622   \n",
              "1  ...          23.41           158.80      1956.0            0.1238   \n",
              "2  ...          25.53           152.50      1709.0            0.1444   \n",
              "3  ...          26.50            98.87       567.7            0.2098   \n",
              "4  ...          16.67           152.20      1575.0            0.1374   \n",
              "\n",
              "   compactness_worst  concavity_worst  concave points_worst  symmetry_worst  \\\n",
              "0             0.6656           0.7119                0.2654          0.4601   \n",
              "1             0.1866           0.2416                0.1860          0.2750   \n",
              "2             0.4245           0.4504                0.2430          0.3613   \n",
              "3             0.8663           0.6869                0.2575          0.6638   \n",
              "4             0.2050           0.4000                0.1625          0.2364   \n",
              "\n",
              "   fractal_dimension_worst  Unnamed: 32  \n",
              "0                  0.11890          NaN  \n",
              "1                  0.08902          NaN  \n",
              "2                  0.08758          NaN  \n",
              "3                  0.17300          NaN  \n",
              "4                  0.07678          NaN  \n",
              "\n",
              "[5 rows x 33 columns]"
            ],
            "text/html": [
              "\n",
              "  <div id=\"df-516202f9-92d5-431f-b12a-4be2d346183b\">\n",
              "    <div class=\"colab-df-container\">\n",
              "      <div>\n",
              "<style scoped>\n",
              "    .dataframe tbody tr th:only-of-type {\n",
              "        vertical-align: middle;\n",
              "    }\n",
              "\n",
              "    .dataframe tbody tr th {\n",
              "        vertical-align: top;\n",
              "    }\n",
              "\n",
              "    .dataframe thead th {\n",
              "        text-align: right;\n",
              "    }\n",
              "</style>\n",
              "<table border=\"1\" class=\"dataframe\">\n",
              "  <thead>\n",
              "    <tr style=\"text-align: right;\">\n",
              "      <th></th>\n",
              "      <th>id</th>\n",
              "      <th>diagnosis</th>\n",
              "      <th>radius_mean</th>\n",
              "      <th>texture_mean</th>\n",
              "      <th>perimeter_mean</th>\n",
              "      <th>area_mean</th>\n",
              "      <th>smoothness_mean</th>\n",
              "      <th>compactness_mean</th>\n",
              "      <th>concavity_mean</th>\n",
              "      <th>concave points_mean</th>\n",
              "      <th>...</th>\n",
              "      <th>texture_worst</th>\n",
              "      <th>perimeter_worst</th>\n",
              "      <th>area_worst</th>\n",
              "      <th>smoothness_worst</th>\n",
              "      <th>compactness_worst</th>\n",
              "      <th>concavity_worst</th>\n",
              "      <th>concave points_worst</th>\n",
              "      <th>symmetry_worst</th>\n",
              "      <th>fractal_dimension_worst</th>\n",
              "      <th>Unnamed: 32</th>\n",
              "    </tr>\n",
              "  </thead>\n",
              "  <tbody>\n",
              "    <tr>\n",
              "      <th>0</th>\n",
              "      <td>842302</td>\n",
              "      <td>M</td>\n",
              "      <td>17.99</td>\n",
              "      <td>10.38</td>\n",
              "      <td>122.80</td>\n",
              "      <td>1001.0</td>\n",
              "      <td>0.11840</td>\n",
              "      <td>0.27760</td>\n",
              "      <td>0.3001</td>\n",
              "      <td>0.14710</td>\n",
              "      <td>...</td>\n",
              "      <td>17.33</td>\n",
              "      <td>184.60</td>\n",
              "      <td>2019.0</td>\n",
              "      <td>0.1622</td>\n",
              "      <td>0.6656</td>\n",
              "      <td>0.7119</td>\n",
              "      <td>0.2654</td>\n",
              "      <td>0.4601</td>\n",
              "      <td>0.11890</td>\n",
              "      <td>NaN</td>\n",
              "    </tr>\n",
              "    <tr>\n",
              "      <th>1</th>\n",
              "      <td>842517</td>\n",
              "      <td>M</td>\n",
              "      <td>20.57</td>\n",
              "      <td>17.77</td>\n",
              "      <td>132.90</td>\n",
              "      <td>1326.0</td>\n",
              "      <td>0.08474</td>\n",
              "      <td>0.07864</td>\n",
              "      <td>0.0869</td>\n",
              "      <td>0.07017</td>\n",
              "      <td>...</td>\n",
              "      <td>23.41</td>\n",
              "      <td>158.80</td>\n",
              "      <td>1956.0</td>\n",
              "      <td>0.1238</td>\n",
              "      <td>0.1866</td>\n",
              "      <td>0.2416</td>\n",
              "      <td>0.1860</td>\n",
              "      <td>0.2750</td>\n",
              "      <td>0.08902</td>\n",
              "      <td>NaN</td>\n",
              "    </tr>\n",
              "    <tr>\n",
              "      <th>2</th>\n",
              "      <td>84300903</td>\n",
              "      <td>M</td>\n",
              "      <td>19.69</td>\n",
              "      <td>21.25</td>\n",
              "      <td>130.00</td>\n",
              "      <td>1203.0</td>\n",
              "      <td>0.10960</td>\n",
              "      <td>0.15990</td>\n",
              "      <td>0.1974</td>\n",
              "      <td>0.12790</td>\n",
              "      <td>...</td>\n",
              "      <td>25.53</td>\n",
              "      <td>152.50</td>\n",
              "      <td>1709.0</td>\n",
              "      <td>0.1444</td>\n",
              "      <td>0.4245</td>\n",
              "      <td>0.4504</td>\n",
              "      <td>0.2430</td>\n",
              "      <td>0.3613</td>\n",
              "      <td>0.08758</td>\n",
              "      <td>NaN</td>\n",
              "    </tr>\n",
              "    <tr>\n",
              "      <th>3</th>\n",
              "      <td>84348301</td>\n",
              "      <td>M</td>\n",
              "      <td>11.42</td>\n",
              "      <td>20.38</td>\n",
              "      <td>77.58</td>\n",
              "      <td>386.1</td>\n",
              "      <td>0.14250</td>\n",
              "      <td>0.28390</td>\n",
              "      <td>0.2414</td>\n",
              "      <td>0.10520</td>\n",
              "      <td>...</td>\n",
              "      <td>26.50</td>\n",
              "      <td>98.87</td>\n",
              "      <td>567.7</td>\n",
              "      <td>0.2098</td>\n",
              "      <td>0.8663</td>\n",
              "      <td>0.6869</td>\n",
              "      <td>0.2575</td>\n",
              "      <td>0.6638</td>\n",
              "      <td>0.17300</td>\n",
              "      <td>NaN</td>\n",
              "    </tr>\n",
              "    <tr>\n",
              "      <th>4</th>\n",
              "      <td>84358402</td>\n",
              "      <td>M</td>\n",
              "      <td>20.29</td>\n",
              "      <td>14.34</td>\n",
              "      <td>135.10</td>\n",
              "      <td>1297.0</td>\n",
              "      <td>0.10030</td>\n",
              "      <td>0.13280</td>\n",
              "      <td>0.1980</td>\n",
              "      <td>0.10430</td>\n",
              "      <td>...</td>\n",
              "      <td>16.67</td>\n",
              "      <td>152.20</td>\n",
              "      <td>1575.0</td>\n",
              "      <td>0.1374</td>\n",
              "      <td>0.2050</td>\n",
              "      <td>0.4000</td>\n",
              "      <td>0.1625</td>\n",
              "      <td>0.2364</td>\n",
              "      <td>0.07678</td>\n",
              "      <td>NaN</td>\n",
              "    </tr>\n",
              "  </tbody>\n",
              "</table>\n",
              "<p>5 rows × 33 columns</p>\n",
              "</div>\n",
              "      <button class=\"colab-df-convert\" onclick=\"convertToInteractive('df-516202f9-92d5-431f-b12a-4be2d346183b')\"\n",
              "              title=\"Convert this dataframe to an interactive table.\"\n",
              "              style=\"display:none;\">\n",
              "        \n",
              "  <svg xmlns=\"http://www.w3.org/2000/svg\" height=\"24px\"viewBox=\"0 0 24 24\"\n",
              "       width=\"24px\">\n",
              "    <path d=\"M0 0h24v24H0V0z\" fill=\"none\"/>\n",
              "    <path d=\"M18.56 5.44l.94 2.06.94-2.06 2.06-.94-2.06-.94-.94-2.06-.94 2.06-2.06.94zm-11 1L8.5 8.5l.94-2.06 2.06-.94-2.06-.94L8.5 2.5l-.94 2.06-2.06.94zm10 10l.94 2.06.94-2.06 2.06-.94-2.06-.94-.94-2.06-.94 2.06-2.06.94z\"/><path d=\"M17.41 7.96l-1.37-1.37c-.4-.4-.92-.59-1.43-.59-.52 0-1.04.2-1.43.59L10.3 9.45l-7.72 7.72c-.78.78-.78 2.05 0 2.83L4 21.41c.39.39.9.59 1.41.59.51 0 1.02-.2 1.41-.59l7.78-7.78 2.81-2.81c.8-.78.8-2.07 0-2.86zM5.41 20L4 18.59l7.72-7.72 1.47 1.35L5.41 20z\"/>\n",
              "  </svg>\n",
              "      </button>\n",
              "      \n",
              "  <style>\n",
              "    .colab-df-container {\n",
              "      display:flex;\n",
              "      flex-wrap:wrap;\n",
              "      gap: 12px;\n",
              "    }\n",
              "\n",
              "    .colab-df-convert {\n",
              "      background-color: #E8F0FE;\n",
              "      border: none;\n",
              "      border-radius: 50%;\n",
              "      cursor: pointer;\n",
              "      display: none;\n",
              "      fill: #1967D2;\n",
              "      height: 32px;\n",
              "      padding: 0 0 0 0;\n",
              "      width: 32px;\n",
              "    }\n",
              "\n",
              "    .colab-df-convert:hover {\n",
              "      background-color: #E2EBFA;\n",
              "      box-shadow: 0px 1px 2px rgba(60, 64, 67, 0.3), 0px 1px 3px 1px rgba(60, 64, 67, 0.15);\n",
              "      fill: #174EA6;\n",
              "    }\n",
              "\n",
              "    [theme=dark] .colab-df-convert {\n",
              "      background-color: #3B4455;\n",
              "      fill: #D2E3FC;\n",
              "    }\n",
              "\n",
              "    [theme=dark] .colab-df-convert:hover {\n",
              "      background-color: #434B5C;\n",
              "      box-shadow: 0px 1px 3px 1px rgba(0, 0, 0, 0.15);\n",
              "      filter: drop-shadow(0px 1px 2px rgba(0, 0, 0, 0.3));\n",
              "      fill: #FFFFFF;\n",
              "    }\n",
              "  </style>\n",
              "\n",
              "      <script>\n",
              "        const buttonEl =\n",
              "          document.querySelector('#df-516202f9-92d5-431f-b12a-4be2d346183b button.colab-df-convert');\n",
              "        buttonEl.style.display =\n",
              "          google.colab.kernel.accessAllowed ? 'block' : 'none';\n",
              "\n",
              "        async function convertToInteractive(key) {\n",
              "          const element = document.querySelector('#df-516202f9-92d5-431f-b12a-4be2d346183b');\n",
              "          const dataTable =\n",
              "            await google.colab.kernel.invokeFunction('convertToInteractive',\n",
              "                                                     [key], {});\n",
              "          if (!dataTable) return;\n",
              "\n",
              "          const docLinkHtml = 'Like what you see? Visit the ' +\n",
              "            '<a target=\"_blank\" href=https://colab.research.google.com/notebooks/data_table.ipynb>data table notebook</a>'\n",
              "            + ' to learn more about interactive tables.';\n",
              "          element.innerHTML = '';\n",
              "          dataTable['output_type'] = 'display_data';\n",
              "          await google.colab.output.renderOutput(dataTable, element);\n",
              "          const docLink = document.createElement('div');\n",
              "          docLink.innerHTML = docLinkHtml;\n",
              "          element.appendChild(docLink);\n",
              "        }\n",
              "      </script>\n",
              "    </div>\n",
              "  </div>\n",
              "  "
            ]
          },
          "metadata": {},
          "execution_count": 5
        }
      ],
      "source": [
        "# show first few recoreds\n",
        "data.head()"
      ]
    },
    {
      "cell_type": "code",
      "execution_count": null,
      "metadata": {
        "execution": {
          "iopub.execute_input": "2020-08-16T13:07:21.031322Z",
          "iopub.status.busy": "2020-08-16T13:07:21.030425Z",
          "iopub.status.idle": "2020-08-16T13:07:21.041321Z",
          "shell.execute_reply": "2020-08-16T13:07:21.040466Z"
        },
        "papermill": {
          "duration": 0.031516,
          "end_time": "2020-08-16T13:07:21.041498",
          "exception": false,
          "start_time": "2020-08-16T13:07:21.009982",
          "status": "completed"
        },
        "tags": [],
        "colab": {
          "base_uri": "https://localhost:8080/"
        },
        "outputId": "25a8e6a7-a8d0-41b7-d2a9-9ed1198684fe",
        "id": "dyctPK1MZT3d"
      },
      "outputs": [
        {
          "output_type": "execute_result",
          "data": {
            "text/plain": [
              "id                           0\n",
              "diagnosis                    0\n",
              "radius_mean                  0\n",
              "texture_mean                 0\n",
              "perimeter_mean               0\n",
              "area_mean                    0\n",
              "smoothness_mean              0\n",
              "compactness_mean             0\n",
              "concavity_mean               0\n",
              "concave points_mean          0\n",
              "symmetry_mean                0\n",
              "fractal_dimension_mean       0\n",
              "radius_se                    0\n",
              "texture_se                   0\n",
              "perimeter_se                 0\n",
              "area_se                      0\n",
              "smoothness_se                0\n",
              "compactness_se               0\n",
              "concavity_se                 0\n",
              "concave points_se            0\n",
              "symmetry_se                  0\n",
              "fractal_dimension_se         0\n",
              "radius_worst                 0\n",
              "texture_worst                0\n",
              "perimeter_worst              0\n",
              "area_worst                   0\n",
              "smoothness_worst             0\n",
              "compactness_worst            0\n",
              "concavity_worst              0\n",
              "concave points_worst         0\n",
              "symmetry_worst               0\n",
              "fractal_dimension_worst      0\n",
              "Unnamed: 32                569\n",
              "dtype: int64"
            ]
          },
          "metadata": {},
          "execution_count": 6
        }
      ],
      "source": [
        "# check for any missing values\n",
        "data.isnull().sum()"
      ]
    },
    {
      "cell_type": "code",
      "execution_count": null,
      "metadata": {
        "execution": {
          "iopub.execute_input": "2020-08-16T13:07:21.077690Z",
          "iopub.status.busy": "2020-08-16T13:07:21.076423Z",
          "iopub.status.idle": "2020-08-16T13:07:21.083692Z",
          "shell.execute_reply": "2020-08-16T13:07:21.082860Z"
        },
        "papermill": {
          "duration": 0.029754,
          "end_time": "2020-08-16T13:07:21.083855",
          "exception": false,
          "start_time": "2020-08-16T13:07:21.054101",
          "status": "completed"
        },
        "tags": [],
        "colab": {
          "base_uri": "https://localhost:8080/"
        },
        "outputId": "83fae1c0-034d-4447-d4e8-e3850a874067",
        "id": "HxK4MaYRZT3d"
      },
      "outputs": [
        {
          "output_type": "execute_result",
          "data": {
            "text/plain": [
              "B    357\n",
              "M    212\n",
              "Name: diagnosis, dtype: int64"
            ]
          },
          "metadata": {},
          "execution_count": 7
        }
      ],
      "source": [
        "# diagnosis distribution\n",
        "data['diagnosis'].value_counts()"
      ]
    },
    {
      "cell_type": "markdown",
      "metadata": {
        "papermill": {
          "duration": 0.013287,
          "end_time": "2020-08-16T13:07:21.110674",
          "exception": false,
          "start_time": "2020-08-16T13:07:21.097387",
          "status": "completed"
        },
        "tags": [],
        "id": "9AH6HfHAZT3e"
      },
      "source": [
        "Main target is the diagnosis column (M = malignant or B = benign) so let's turn the strings into 1 and 0"
      ]
    },
    {
      "cell_type": "code",
      "execution_count": null,
      "metadata": {
        "execution": {
          "iopub.execute_input": "2020-08-16T13:07:21.148266Z",
          "iopub.status.busy": "2020-08-16T13:07:21.147182Z",
          "iopub.status.idle": "2020-08-16T13:07:21.152727Z",
          "shell.execute_reply": "2020-08-16T13:07:21.151895Z"
        },
        "papermill": {
          "duration": 0.027398,
          "end_time": "2020-08-16T13:07:21.152861",
          "exception": false,
          "start_time": "2020-08-16T13:07:21.125463",
          "status": "completed"
        },
        "tags": [],
        "id": "pXGOL01DZT3e"
      },
      "outputs": [],
      "source": [
        "# encode categorical data\n",
        "data['diagnosis'].replace({'M': 1, 'B': 0}, inplace = True)"
      ]
    },
    {
      "cell_type": "markdown",
      "metadata": {
        "papermill": {
          "duration": 0.011756,
          "end_time": "2020-08-16T13:07:21.176454",
          "exception": false,
          "start_time": "2020-08-16T13:07:21.164698",
          "status": "completed"
        },
        "tags": [],
        "id": "-yyZd6NpZT3f"
      },
      "source": [
        "Next step is to prepare the training and test sets, id and \"Unamed: 32\" columns won't help us in the prediction so we gonna drop them"
      ]
    },
    {
      "cell_type": "code",
      "execution_count": null,
      "metadata": {
        "execution": {
          "iopub.execute_input": "2020-08-16T13:07:21.208078Z",
          "iopub.status.busy": "2020-08-16T13:07:21.206735Z",
          "iopub.status.idle": "2020-08-16T13:07:21.211691Z",
          "shell.execute_reply": "2020-08-16T13:07:21.210351Z"
        },
        "papermill": {
          "duration": 0.023633,
          "end_time": "2020-08-16T13:07:21.211894",
          "exception": false,
          "start_time": "2020-08-16T13:07:21.188261",
          "status": "completed"
        },
        "tags": [],
        "id": "CdUzTzqpZT3f"
      },
      "outputs": [],
      "source": [
        "Y = data['diagnosis'].to_numpy()"
      ]
    },
    {
      "cell_type": "code",
      "execution_count": null,
      "metadata": {
        "execution": {
          "iopub.execute_input": "2020-08-16T13:07:21.246606Z",
          "iopub.status.busy": "2020-08-16T13:07:21.245439Z",
          "iopub.status.idle": "2020-08-16T13:07:21.250140Z",
          "shell.execute_reply": "2020-08-16T13:07:21.248799Z"
        },
        "papermill": {
          "duration": 0.025936,
          "end_time": "2020-08-16T13:07:21.250305",
          "exception": false,
          "start_time": "2020-08-16T13:07:21.224369",
          "status": "completed"
        },
        "tags": [],
        "id": "u5eCkewtZT3f"
      },
      "outputs": [],
      "source": [
        "X = data.drop(['id', 'diagnosis', 'Unnamed: 32'], axis = 1)"
      ]
    },
    {
      "cell_type": "code",
      "execution_count": null,
      "metadata": {
        "execution": {
          "iopub.execute_input": "2020-08-16T13:07:21.285163Z",
          "iopub.status.busy": "2020-08-16T13:07:21.284322Z",
          "iopub.status.idle": "2020-08-16T13:07:21.288315Z",
          "shell.execute_reply": "2020-08-16T13:07:21.288872Z"
        },
        "papermill": {
          "duration": 0.026667,
          "end_time": "2020-08-16T13:07:21.289076",
          "exception": false,
          "start_time": "2020-08-16T13:07:21.262409",
          "status": "completed"
        },
        "tags": [],
        "id": "-TqLiJkeZT3g"
      },
      "outputs": [],
      "source": [
        "# split the dataset into the training set and test set\n",
        "X_train, X_test, y_train, y_test = train_test_split(X, Y, test_size = 0.3)"
      ]
    },
    {
      "cell_type": "code",
      "execution_count": null,
      "metadata": {
        "execution": {
          "iopub.execute_input": "2020-08-16T13:07:21.353421Z",
          "iopub.status.busy": "2020-08-16T13:07:21.352405Z",
          "iopub.status.idle": "2020-08-16T13:07:21.364083Z",
          "shell.execute_reply": "2020-08-16T13:07:21.363206Z"
        },
        "papermill": {
          "duration": 0.032386,
          "end_time": "2020-08-16T13:07:21.364264",
          "exception": false,
          "start_time": "2020-08-16T13:07:21.331878",
          "status": "completed"
        },
        "tags": [],
        "id": "PxQzOLJoZT3g"
      },
      "outputs": [],
      "source": [
        "# feature scaling\n",
        "scaler = StandardScaler()\n",
        "X_train = scaler.fit_transform(X_train)\n",
        "X_test = scaler.transform(X_test)"
      ]
    },
    {
      "cell_type": "markdown",
      "metadata": {
        "papermill": {
          "duration": 0.011926,
          "end_time": "2020-08-16T13:07:21.388585",
          "exception": false,
          "start_time": "2020-08-16T13:07:21.376659",
          "status": "completed"
        },
        "tags": [],
        "id": "iATDW5etZT3g"
      },
      "source": [
        "Now we can make sure the data is nicely distributed. Then the next step is to create the model with training data and afterwards, testing is done using test data."
      ]
    },
    {
      "cell_type": "code",
      "execution_count": null,
      "metadata": {
        "execution": {
          "iopub.execute_input": "2020-08-16T13:07:21.419882Z",
          "iopub.status.busy": "2020-08-16T13:07:21.418549Z",
          "iopub.status.idle": "2020-08-16T13:07:21.434916Z",
          "shell.execute_reply": "2020-08-16T13:07:21.435650Z"
        },
        "papermill": {
          "duration": 0.034946,
          "end_time": "2020-08-16T13:07:21.435852",
          "exception": false,
          "start_time": "2020-08-16T13:07:21.400906",
          "status": "completed"
        },
        "tags": [],
        "id": "MAzWBfCtZT3h"
      },
      "outputs": [],
      "source": [
        "# create the model\n",
        "model = torch.nn.Linear(X_train.shape[1], 1)"
      ]
    },
    {
      "cell_type": "code",
      "execution_count": null,
      "metadata": {
        "execution": {
          "iopub.execute_input": "2020-08-16T13:07:21.496034Z",
          "iopub.status.busy": "2020-08-16T13:07:21.494825Z",
          "iopub.status.idle": "2020-08-16T13:07:21.498704Z",
          "shell.execute_reply": "2020-08-16T13:07:21.499304Z"
        },
        "papermill": {
          "duration": 0.026209,
          "end_time": "2020-08-16T13:07:21.499704",
          "exception": false,
          "start_time": "2020-08-16T13:07:21.473495",
          "status": "completed"
        },
        "tags": [],
        "id": "KLX65p12ZT3h"
      },
      "outputs": [],
      "source": [
        "X_train = torch.from_numpy(X_train.astype(np.float32))\n",
        "X_test = torch.from_numpy(X_test.astype(np.float32))"
      ]
    },
    {
      "cell_type": "code",
      "execution_count": null,
      "metadata": {
        "execution": {
          "iopub.execute_input": "2020-08-16T13:07:21.531722Z",
          "iopub.status.busy": "2020-08-16T13:07:21.530836Z",
          "iopub.status.idle": "2020-08-16T13:07:21.551270Z",
          "shell.execute_reply": "2020-08-16T13:07:21.550447Z"
        },
        "papermill": {
          "duration": 0.039203,
          "end_time": "2020-08-16T13:07:21.551458",
          "exception": false,
          "start_time": "2020-08-16T13:07:21.512255",
          "status": "completed"
        },
        "tags": [],
        "id": "lIz3sFGRZT3i"
      },
      "outputs": [],
      "source": [
        "y_train = torch.from_numpy(y_train).float().reshape(-1, 1)\n",
        "y_test = torch.from_numpy(y_test).float().reshape(-1, 1)"
      ]
    },
    {
      "cell_type": "code",
      "execution_count": null,
      "metadata": {
        "execution": {
          "iopub.execute_input": "2020-08-16T13:07:21.610949Z",
          "iopub.status.busy": "2020-08-16T13:07:21.609786Z",
          "iopub.status.idle": "2020-08-16T13:07:21.613481Z",
          "shell.execute_reply": "2020-08-16T13:07:21.612663Z"
        },
        "papermill": {
          "duration": 0.023259,
          "end_time": "2020-08-16T13:07:21.613649",
          "exception": false,
          "start_time": "2020-08-16T13:07:21.590390",
          "status": "completed"
        },
        "tags": [],
        "id": "GUO1DTToZT3i"
      },
      "outputs": [],
      "source": [
        "def configure_loss_function(): \n",
        "      return torch.nn.BCEWithLogitsLoss()"
      ]
    },
    {
      "cell_type": "code",
      "execution_count": null,
      "metadata": {
        "execution": {
          "iopub.execute_input": "2020-08-16T13:07:21.645473Z",
          "iopub.status.busy": "2020-08-16T13:07:21.644490Z",
          "iopub.status.idle": "2020-08-16T13:07:21.647899Z",
          "shell.execute_reply": "2020-08-16T13:07:21.648604Z"
        },
        "papermill": {
          "duration": 0.022959,
          "end_time": "2020-08-16T13:07:21.648784",
          "exception": false,
          "start_time": "2020-08-16T13:07:21.625825",
          "status": "completed"
        },
        "tags": [],
        "id": "r6fTfM-cZT3i"
      },
      "outputs": [],
      "source": [
        "# use Adam optimiser for gradient descent\n",
        "def configure_optimizer(model):\n",
        "    return torch.optim.Adam(model.parameters(), lr = 0.0007)"
      ]
    },
    {
      "cell_type": "code",
      "execution_count": null,
      "metadata": {
        "execution": {
          "iopub.execute_input": "2020-08-16T13:07:21.682709Z",
          "iopub.status.busy": "2020-08-16T13:07:21.681438Z",
          "iopub.status.idle": "2020-08-16T13:07:21.686246Z",
          "shell.execute_reply": "2020-08-16T13:07:21.685146Z"
        },
        "papermill": {
          "duration": 0.024317,
          "end_time": "2020-08-16T13:07:21.686410",
          "exception": false,
          "start_time": "2020-08-16T13:07:21.662093",
          "status": "completed"
        },
        "tags": [],
        "id": "zfWxEiQFZT3j"
      },
      "outputs": [],
      "source": [
        "# define the loss function to compare the output with the target\n",
        "criterion = configure_loss_function()\n",
        "optimizer = configure_optimizer(model)"
      ]
    },
    {
      "cell_type": "code",
      "execution_count": null,
      "metadata": {
        "execution": {
          "iopub.execute_input": "2020-08-16T13:07:21.750548Z",
          "iopub.status.busy": "2020-08-16T13:07:21.749711Z",
          "iopub.status.idle": "2020-08-16T13:07:23.673811Z",
          "shell.execute_reply": "2020-08-16T13:07:23.672987Z"
        },
        "papermill": {
          "duration": 1.949098,
          "end_time": "2020-08-16T13:07:23.673968",
          "exception": false,
          "start_time": "2020-08-16T13:07:21.724870",
          "status": "completed"
        },
        "tags": [],
        "colab": {
          "base_uri": "https://localhost:8080/"
        },
        "outputId": "789c2498-74b3-4688-90f8-ec14f0bdd7a0",
        "id": "RJNRA-LeZT3j"
      },
      "outputs": [
        {
          "output_type": "stream",
          "name": "stdout",
          "text": [
            "Epoch 50/2000,  training loss = 0.4886230528354645, test loss = 0.48850005865097046\n",
            "Epoch 100/2000,  training loss = 0.38347509503364563, test loss = 0.3742227256298065\n",
            "Epoch 150/2000,  training loss = 0.32094186544418335, test loss = 0.3104243278503418\n",
            "Epoch 200/2000,  training loss = 0.27847030758857727, test loss = 0.26855233311653137\n",
            "Epoch 250/2000,  training loss = 0.24739180505275726, test loss = 0.23849497735500336\n",
            "Epoch 300/2000,  training loss = 0.22357818484306335, test loss = 0.21571777760982513\n",
            "Epoch 350/2000,  training loss = 0.20476184785366058, test loss = 0.19781775772571564\n",
            "Epoch 400/2000,  training loss = 0.1895517259836197, test loss = 0.1833873838186264\n",
            "Epoch 450/2000,  training loss = 0.1770235002040863, test loss = 0.1715351641178131\n",
            "Epoch 500/2000,  training loss = 0.16653290390968323, test loss = 0.16165634989738464\n",
            "Epoch 550/2000,  training loss = 0.1576187014579773, test loss = 0.1533190906047821\n",
            "Epoch 600/2000,  training loss = 0.14994437992572784, test loss = 0.14620481431484222\n",
            "Epoch 650/2000,  training loss = 0.14326050877571106, test loss = 0.1400737315416336\n",
            "Epoch 700/2000,  training loss = 0.1373792439699173, test loss = 0.13474266231060028\n",
            "Epoch 750/2000,  training loss = 0.13215698301792145, test loss = 0.130069762468338\n",
            "Epoch 800/2000,  training loss = 0.12748239934444427, test loss = 0.1259440779685974\n",
            "Epoch 850/2000,  training loss = 0.1232680156826973, test loss = 0.12227774411439896\n",
            "Epoch 900/2000,  training loss = 0.11944419145584106, test loss = 0.11900042742490768\n",
            "Epoch 950/2000,  training loss = 0.11595479398965836, test loss = 0.11605527997016907\n",
            "Epoch 1000/2000,  training loss = 0.112754225730896, test loss = 0.11339592188596725\n",
            "Epoch 1050/2000,  training loss = 0.10980489104986191, test loss = 0.1109841912984848\n",
            "Epoch 1100/2000,  training loss = 0.10707561671733856, test loss = 0.10878832638263702\n",
            "Epoch 1150/2000,  training loss = 0.10454031825065613, test loss = 0.10678183287382126\n",
            "Epoch 1200/2000,  training loss = 0.10217700153589249, test loss = 0.10494232922792435\n",
            "Epoch 1250/2000,  training loss = 0.09996692091226578, test loss = 0.10325086861848831\n",
            "Epoch 1300/2000,  training loss = 0.0978941097855568, test loss = 0.10169127583503723\n",
            "Epoch 1350/2000,  training loss = 0.09594474732875824, test loss = 0.10024959594011307\n",
            "Epoch 1400/2000,  training loss = 0.09410693496465683, test loss = 0.09891382604837418\n",
            "Epoch 1450/2000,  training loss = 0.09237024188041687, test loss = 0.09767355769872665\n",
            "Epoch 1500/2000,  training loss = 0.09072557091712952, test loss = 0.09651967883110046\n",
            "Epoch 1550/2000,  training loss = 0.08916494250297546, test loss = 0.09544426202774048\n",
            "Epoch 1600/2000,  training loss = 0.08768130838871002, test loss = 0.09444022923707962\n",
            "Epoch 1650/2000,  training loss = 0.0862683430314064, test loss = 0.09350141882896423\n",
            "Epoch 1700/2000,  training loss = 0.08492052555084229, test loss = 0.09262236952781677\n",
            "Epoch 1750/2000,  training loss = 0.08363285660743713, test loss = 0.09179817885160446\n",
            "Epoch 1800/2000,  training loss = 0.0824008658528328, test loss = 0.09102446585893631\n",
            "Epoch 1850/2000,  training loss = 0.08122052997350693, test loss = 0.09029736369848251\n",
            "Epoch 1900/2000,  training loss = 0.08008824288845062, test loss = 0.08961334079504013\n",
            "Epoch 1950/2000,  training loss = 0.07900071144104004, test loss = 0.08896926045417786\n",
            "Epoch 2000/2000,  training loss = 0.07795495539903641, test loss = 0.08836230635643005\n"
          ]
        }
      ],
      "source": [
        "# run the model\n",
        "epochs = 2000\n",
        "# initialise the train_loss & test_losses which will be updated\n",
        "train_losses = np.zeros(epochs)\n",
        "test_losses = np.zeros(epochs)\n",
        "\n",
        "for epoch in range(epochs): \n",
        "    y_pred = model(X_train)\n",
        "    loss = criterion(y_pred, y_train)\n",
        "    # clear old gradients from the last step\n",
        "    optimizer.zero_grad()\n",
        "    # compute the gradients necessary to adjust the weights\n",
        "    loss.backward()\n",
        "    # update the weights of the neural network\n",
        "    optimizer.step()\n",
        "\n",
        "    outputs_test = model(X_test)\n",
        "    loss_test = criterion(outputs_test, y_test)\n",
        "\n",
        "    train_losses[epoch] = loss.item()\n",
        "    test_losses[epoch] = loss_test.item()\n",
        "\n",
        "    if (epoch + 1) % 50 == 0:\n",
        "      print (str('Epoch ') + str((epoch+1)) + str('/') + str(epochs) + str(',  training loss = ') + str((loss.item())) + str(', test loss = ') + str(loss_test.item()))"
      ]
    },
    {
      "cell_type": "code",
      "execution_count": null,
      "metadata": {
        "execution": {
          "iopub.execute_input": "2020-08-16T13:07:23.731729Z",
          "iopub.status.busy": "2020-08-16T13:07:23.730718Z",
          "iopub.status.idle": "2020-08-16T13:07:23.989076Z",
          "shell.execute_reply": "2020-08-16T13:07:23.988308Z"
        },
        "papermill": {
          "duration": 0.276747,
          "end_time": "2020-08-16T13:07:23.989207",
          "exception": false,
          "start_time": "2020-08-16T13:07:23.712460",
          "status": "completed"
        },
        "tags": [],
        "colab": {
          "base_uri": "https://localhost:8080/",
          "height": 298
        },
        "outputId": "d6c46634-6e4d-4c23-e3e2-0ed08fe17db9",
        "id": "Ym1JaZn0ZT3j"
      },
      "outputs": [
        {
          "output_type": "execute_result",
          "data": {
            "text/plain": [
              "Text(0.5, 1.0, 'Model Loss')"
            ]
          },
          "metadata": {},
          "execution_count": 24
        },
        {
          "output_type": "display_data",
          "data": {
            "text/plain": [
              "<Figure size 432x288 with 1 Axes>"
            ],
            "image/png": "[encoded data removed]"
          },
          "metadata": {
            "needs_background": "light"
          }
        }
      ],
      "source": [
        "# visualise the test and train loss\n",
        "plt.plot(train_losses, label = 'train loss')\n",
        "plt.plot(test_losses, label = 'test loss')\n",
        "plt.legend()\n",
        "plt.title('Model Loss')"
      ]
    },
    {
      "cell_type": "markdown",
      "metadata": {
        "papermill": {
          "duration": 0.012324,
          "end_time": "2020-08-16T13:07:24.014569",
          "exception": false,
          "start_time": "2020-08-16T13:07:24.002245",
          "status": "completed"
        },
        "tags": [],
        "id": "9KcLrNDyZT3k"
      },
      "source": [
        "Calculate the backward over the validation set"
      ]
    },
    {
      "cell_type": "code",
      "execution_count": null,
      "metadata": {
        "execution": {
          "iopub.execute_input": "2020-08-16T13:07:24.049159Z",
          "iopub.status.busy": "2020-08-16T13:07:24.048303Z",
          "iopub.status.idle": "2020-08-16T13:07:24.053247Z",
          "shell.execute_reply": "2020-08-16T13:07:24.052332Z"
        },
        "papermill": {
          "duration": 0.026021,
          "end_time": "2020-08-16T13:07:24.053393",
          "exception": false,
          "start_time": "2020-08-16T13:07:24.027372",
          "status": "completed"
        },
        "tags": [],
        "id": "w3QiYPEiZT3k"
      },
      "outputs": [],
      "source": [
        "with torch.no_grad():\n",
        "  output_train = model(X_train)\n",
        "  output_train = (output_train.numpy() > 0)\n",
        "\n",
        "  train_acc = np.mean(y_train.numpy() == output_train)\n",
        "\n",
        "  output_test = model(X_test)\n",
        "  output_test = (output_test.numpy() > 0)\n",
        "  \n",
        "  test_acc = np.mean(y_test.numpy() == output_test)"
      ]
    },
    {
      "cell_type": "code",
      "execution_count": null,
      "metadata": {
        "execution": {
          "iopub.execute_input": "2020-08-16T13:07:24.089699Z",
          "iopub.status.busy": "2020-08-16T13:07:24.088667Z",
          "iopub.status.idle": "2020-08-16T13:07:24.093368Z",
          "shell.execute_reply": "2020-08-16T13:07:24.092699Z"
        },
        "papermill": {
          "duration": 0.025263,
          "end_time": "2020-08-16T13:07:24.093503",
          "exception": false,
          "start_time": "2020-08-16T13:07:24.068240",
          "status": "completed"
        },
        "tags": [],
        "colab": {
          "base_uri": "https://localhost:8080/"
        },
        "outputId": "a20601ae-ca89-48a9-a52c-a6d99395c2b8",
        "id": "s3sW1KswZT3k"
      },
      "outputs": [
        {
          "output_type": "stream",
          "name": "stdout",
          "text": [
            "Train accuracy is: 0.9798994974874372\n"
          ]
        }
      ],
      "source": [
        "print ('Train accuracy is: ' + str(train_acc))"
      ]
    },
    {
      "cell_type": "code",
      "execution_count": null,
      "metadata": {
        "execution": {
          "iopub.execute_input": "2020-08-16T13:07:24.126556Z",
          "iopub.status.busy": "2020-08-16T13:07:24.125492Z",
          "iopub.status.idle": "2020-08-16T13:07:24.129108Z",
          "shell.execute_reply": "2020-08-16T13:07:24.129725Z"
        },
        "papermill": {
          "duration": 0.023057,
          "end_time": "2020-08-16T13:07:24.129893",
          "exception": false,
          "start_time": "2020-08-16T13:07:24.106836",
          "status": "completed"
        },
        "tags": [],
        "colab": {
          "base_uri": "https://localhost:8080/"
        },
        "outputId": "4ca3a80a-c111-4dc2-f276-5d2267dedd34",
        "id": "3RZuFINGZT3k"
      },
      "outputs": [
        {
          "output_type": "stream",
          "name": "stdout",
          "text": [
            "Test accuracy is: 0.9798994974874372\n"
          ]
        }
      ],
      "source": [
        "print ('Test accuracy is: ' + str(train_acc))"
      ]
    },
    {
      "cell_type": "markdown",
      "source": [],
      "metadata": {
        "id": "ib1ZUaBlRllx"
      }
    },
    {
      "cell_type": "markdown",
      "source": [],
      "metadata": {
        "id": "hKaPWFvURlux"
      }
    }
  ]
}