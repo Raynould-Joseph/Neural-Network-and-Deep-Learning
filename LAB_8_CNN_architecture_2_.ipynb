{
  "nbformat": 4,
  "nbformat_minor": 0,
  "metadata": {
    "colab": {
      "provenance": [],
      "authorship_tag": "ABX9TyMnpyOKsmrhb7+xK5Ngx8Mr",
      "include_colab_link": true
    },
    "kernelspec": {
      "name": "python3",
      "display_name": "Python 3"
    },
    "language_info": {
      "name": "python"
    }
  },
  "cells": [
    {
      "cell_type": "markdown",
      "metadata": {
        "id": "view-in-github",
        "colab_type": "text"
      },
      "source": [
        "<a href=\"https://colab.research.google.com/github/Raynould-Joseph/Neural-Network-and-Deep-Learning/blob/main/LAB_8_CNN_architecture_2_.ipynb\" target=\"_parent\"><img src=\"https://colab.research.google.com/assets/colab-badge.svg\" alt=\"Open In Colab\"/></a>"
      ]
    },
    {
      "cell_type": "markdown",
      "source": [
        "# Rebuild any CNN architecture of your choice from textbook or online sources for The given image. Also try for any image classification/handwritten digit recognition. Interpret your observations "
      ],
      "metadata": {
        "id": "3tg5P8ZPG_mE"
      }
    },
    {
      "cell_type": "code",
      "execution_count": null,
      "metadata": {
        "id": "3XuElPCUG20H"
      },
      "outputs": [],
      "source": []
    }
  ]
}