{
  "nbformat": 4,
  "nbformat_minor": 0,
  "metadata": {
    "colab": {
      "provenance": [],
      "authorship_tag": "ABX9TyPwAis0HimYuqIy53ucASYL",
      "include_colab_link": true
    },
    "kernelspec": {
      "name": "python3",
      "display_name": "Python 3"
    },
    "language_info": {
      "name": "python"
    }
  },
  "cells": [
    {
      "cell_type": "markdown",
      "metadata": {
        "id": "view-in-github",
        "colab_type": "text"
      },
      "source": [
        "<a href=\"https://colab.research.google.com/github/Raynould-Joseph/Neural-Network-and-Deep-Learning/blob/main/LAB_8_CNN_architecture_2_.ipynb\" target=\"_parent\"><img src=\"https://colab.research.google.com/assets/colab-badge.svg\" alt=\"Open In Colab\"/></a>"
      ]
    },
    {
      "cell_type": "code",
      "execution_count": null,
      "metadata": {
        "id": "yDlQuT4a9rL-"
      },
      "outputs": [],
      "source": [
        "import numpy as np\n",
        "import matplotlib.pyplot as plt\n",
        "import keras\n",
        "from keras.models import Sequential\n",
        "from keras.layers import Dense, Conv2D, MaxPooling2D, Dropout, Flatten"
      ]
    },
    {
      "cell_type": "code",
      "source": [
        "from keras.datasets import cifar10\n",
        "(train_images, train_labels), (test_images, test_labels)=cifar10.load_data()\n"
      ],
      "metadata": {
        "colab": {
          "base_uri": "https://localhost:8080/"
        },
        "id": "4mXVpluU-j8x",
        "outputId": "439c7685-bd54-46f2-cad5-16a2a2eb4ce1"
      },
      "execution_count": null,
      "outputs": [
        {
          "output_type": "stream",
          "name": "stdout",
          "text": [
            "Downloading data from https://www.cs.toronto.edu/~kriz/cifar-10-python.tar.gz\n",
            "170498071/170498071 [==============================] - 11s 0us/step\n"
          ]
        }
      ]
    },
    {
      "cell_type": "code",
      "source": [
        "from keras.utils import to_categorical\n",
        "print(\"Shape of Training:\", train_images.shape, train_labels.shape)\n",
        "print(\"Shape of Testing data:\", test_images.shape, test_labels.shape)"
      ],
      "metadata": {
        "colab": {
          "base_uri": "https://localhost:8080/"
        },
        "id": "h1iERf9Q-44T",
        "outputId": "f289557b-c379-442a-aba6-65b74468780e"
      },
      "execution_count": null,
      "outputs": [
        {
          "output_type": "stream",
          "name": "stdout",
          "text": [
            "Shape of Training: (50000, 32, 32, 3) (50000, 1)\n",
            "Shape of Testing data: (10000, 32, 32, 3) (10000, 1)\n"
          ]
        }
      ]
    },
    {
      "cell_type": "markdown",
      "source": [
        "Finding the unique elements from the training Models"
      ],
      "metadata": {
        "id": "dSOZ7HuI_z1Z"
      }
    },
    {
      "cell_type": "code",
      "source": [
        "classes = np.unique(train_labels)\n",
        "no_of_classes = len(classes)\n",
        "print('Total number of outputs:',no_of_classes)\n",
        "print(\"Output Classes:\",classes)"
      ],
      "metadata": {
        "colab": {
          "base_uri": "https://localhost:8080/"
        },
        "id": "ReTw_h1V_mSR",
        "outputId": "14a0268a-0c6a-454a-c593-48bba4210960"
      },
      "execution_count": null,
      "outputs": [
        {
          "output_type": "stream",
          "name": "stdout",
          "text": [
            "Total number of outputs: 10\n",
            "Output Classes: [0 1 2 3 4 5 6 7 8 9]\n"
          ]
        }
      ]
    },
    {
      "cell_type": "markdown",
      "source": [
        "Find the shape of input images and create the variable input_shape"
      ],
      "metadata": {
        "id": "r3HRaep1AqvZ"
      }
    },
    {
      "cell_type": "code",
      "source": [
        "no_of_cols,no_of_rows,no_of_dims = train_images.shape[1:]\n",
        "\n",
        "training_Data = train_images.reshape(train_images.shape[0], no_of_rows, no_of_cols, no_of_dims)\n",
        "testing_Data = test_images.reshape(test_images.shape[0], no_of_rows, no_of_cols, no_of_dims)\n",
        "input_shape = (no_of_rows, no_of_cols, no_of_dims)"
      ],
      "metadata": {
        "id": "R2kc1t87AnbR"
      },
      "execution_count": null,
      "outputs": []
    },
    {
      "cell_type": "code",
      "source": [
        "#change the datatype to float\n",
        "training_Data = training_Data.astype('float32')\n",
        "testing_Data = testing_Data.astype('float32')\n",
        "\n",
        "#scale the data to lie between 0 to 1\n",
        "training_Data /= 255\n",
        "testing_Data /= 255\n",
        "\n",
        "#change the labels from integer to categorical data\n",
        "train_Labels = to_categorical(train_labels)\n",
        "test_Labels = to_categorical(test_labels)"
      ],
      "metadata": {
        "id": "a8WQ1AbiB-EX"
      },
      "execution_count": null,
      "outputs": []
    },
    {
      "cell_type": "code",
      "source": [
        "#Display the change for category label using one-hot encoding\n",
        "print(\"Original label 0:\", train_labels[0])\n",
        "print(\"On conversion to categorical (one-hot):\",train_labels[0])"
      ],
      "metadata": {
        "colab": {
          "base_uri": "https://localhost:8080/"
        },
        "id": "8OSznxhJDZKo",
        "outputId": "072ef61e-3a8b-4d2d-8e66-3436828c2e53"
      },
      "execution_count": null,
      "outputs": [
        {
          "output_type": "stream",
          "name": "stdout",
          "text": [
            "Original label 0: [6]\n",
            "On conversion to categorical (one-hot): [6]\n"
          ]
        }
      ]
    },
    {
      "cell_type": "code",
      "source": [
        "def createModel():\n",
        "  model=Sequential()\n",
        "\n",
        "  #the first 2 layers with 32 filters of window size 3x3\n",
        "  model.add(Conv2D(32,(3,3), padding='same', activation='relu', input_shape=input_shape))\n",
        "  model.add(Conv2D(32,(3,3), activation='relu'))\n",
        "  model.add(MaxPooling2D(pool_size=(2,2)))\n",
        "  model.add(Dropout(0.25))\n",
        "\n",
        "  model.add(Conv2D(64,(3,3), padding='same', activation='relu'))\n",
        "  model.add(Conv2D(64,(3,3), activation='relu'))\n",
        "  model.add(MaxPooling2D(pool_size=(2,2)))\n",
        "  model.add(Dropout(0.25))\n",
        "\n",
        "  model.add(Conv2D(64,(3,3), padding='same', activation='relu'))\n",
        "  model.add(Conv2D(64,(3,3), activation='relu'))\n",
        "  model.add(MaxPooling2D(pool_size=(2,2)))\n",
        "  model.add(Dropout(0.25))\n",
        "\n",
        "  model.add(Flatten())\n",
        "  model.add(Dense(512, activation='relu'))\n",
        "  model.add(Dropout(0.5))\n",
        "  model.add(Dense(no_of_classes, activation=\"softmax\"))\n",
        "  return model"
      ],
      "metadata": {
        "id": "U6IwSR8rD1ys"
      },
      "execution_count": null,
      "outputs": []
    },
    {
      "cell_type": "code",
      "source": [
        "model_one=createModel()\n",
        "batch_size=3\n",
        "epochs=3\n",
        "model_one.compile(optimizer='rmsprop',loss=\"categorical_crossentropy\",metrics=['accuracy'])\n",
        "\n",
        "model_one.summary()\n",
        "history= model_one.fit(training_Data,train_Labels,batch_size=batch_size, epochs=epochs,\n",
        "                      verbose=1, validation_data=(testing_Data,test_Labels))\n",
        "model_one.evaluate(testing_Data,test_Labels)\n",
        "model_one.predict(testing_Data)\n"
      ],
      "metadata": {
        "colab": {
          "base_uri": "https://localhost:8080/"
        },
        "id": "zjld7zpUGb47",
        "outputId": "dc991d59-df57-4222-9d01-b3d0c2e96570"
      },
      "execution_count": null,
      "outputs": [
        {
          "output_type": "stream",
          "name": "stdout",
          "text": [
            "Model: \"sequential\"\n",
            "_________________________________________________________________\n",
            " Layer (type)                Output Shape              Param #   \n",
            "=================================================================\n",
            " conv2d (Conv2D)             (None, 32, 32, 32)        896       \n",
            "                                                                 \n",
            " conv2d_1 (Conv2D)           (None, 30, 30, 32)        9248      \n",
            "                                                                 \n",
            " max_pooling2d (MaxPooling2D  (None, 15, 15, 32)       0         \n",
            " )                                                               \n",
            "                                                                 \n",
            " dropout (Dropout)           (None, 15, 15, 32)        0         \n",
            "                                                                 \n",
            " conv2d_2 (Conv2D)           (None, 15, 15, 64)        18496     \n",
            "                                                                 \n",
            " conv2d_3 (Conv2D)           (None, 13, 13, 64)        36928     \n",
            "                                                                 \n",
            " max_pooling2d_1 (MaxPooling  (None, 6, 6, 64)         0         \n",
            " 2D)                                                             \n",
            "                                                                 \n",
            " dropout_1 (Dropout)         (None, 6, 6, 64)          0         \n",
            "                                                                 \n",
            " conv2d_4 (Conv2D)           (None, 6, 6, 64)          36928     \n",
            "                                                                 \n",
            " conv2d_5 (Conv2D)           (None, 4, 4, 64)          36928     \n",
            "                                                                 \n",
            " max_pooling2d_2 (MaxPooling  (None, 2, 2, 64)         0         \n",
            " 2D)                                                             \n",
            "                                                                 \n",
            " dropout_2 (Dropout)         (None, 2, 2, 64)          0         \n",
            "                                                                 \n",
            " flatten (Flatten)           (None, 256)               0         \n",
            "                                                                 \n",
            " dense (Dense)               (None, 512)               131584    \n",
            "                                                                 \n",
            " dropout_3 (Dropout)         (None, 512)               0         \n",
            "                                                                 \n",
            " dense_1 (Dense)             (None, 10)                5130      \n",
            "                                                                 \n",
            "=================================================================\n",
            "Total params: 276,138\n",
            "Trainable params: 276,138\n",
            "Non-trainable params: 0\n",
            "_________________________________________________________________\n",
            "Epoch 1/3\n",
            "16667/16667 [==============================] - 570s 34ms/step - loss: 2.0009 - accuracy: 0.2756 - val_loss: 1.7733 - val_accuracy: 0.3259\n",
            "Epoch 2/3\n",
            "16667/16667 [==============================] - 522s 31ms/step - loss: 2.2825 - accuracy: 0.1277 - val_loss: 2.3031 - val_accuracy: 0.1000\n",
            "Epoch 3/3\n",
            "16667/16667 [==============================] - 625s 37ms/step - loss: 2.3047 - accuracy: 0.0987 - val_loss: 2.3034 - val_accuracy: 0.1000\n",
            "313/313 [==============================] - 12s 40ms/step - loss: 2.3034 - accuracy: 0.1000\n",
            "313/313 [==============================] - 14s 44ms/step\n"
          ]
        },
        {
          "output_type": "execute_result",
          "data": {
            "text/plain": [
              "array([[0.10746687, 0.09876034, 0.09749936, ..., 0.09876043, 0.10737994,\n",
              "        0.09825633],\n",
              "       [0.10746687, 0.09876034, 0.09749936, ..., 0.09876043, 0.10737994,\n",
              "        0.09825633],\n",
              "       [0.10746687, 0.09876034, 0.09749936, ..., 0.09876043, 0.10737994,\n",
              "        0.09825633],\n",
              "       ...,\n",
              "       [0.10746687, 0.09876034, 0.09749936, ..., 0.09876043, 0.10737994,\n",
              "        0.09825633],\n",
              "       [0.10746687, 0.09876034, 0.09749936, ..., 0.09876043, 0.10737994,\n",
              "        0.09825633],\n",
              "       [0.10746687, 0.09876034, 0.09749936, ..., 0.09876043, 0.10737994,\n",
              "        0.09825633]], dtype=float32)"
            ]
          },
          "metadata": {},
          "execution_count": 9
        }
      ]
    },
    {
      "cell_type": "code",
      "source": [
        "#loss curves\n",
        "plt.figure(figsize=[8,6])\n",
        "plt.plot(history.history['loss'],'r',linewidth=3.0)\n",
        "plt.plot(history.history['val_loss'],'b',linewidth=3.0)\n",
        "plt.legend(['Traning loss', 'Validation Loss'],fontsize=18)\n",
        "plt.xlabel('Epochs', fontsize=16)\n",
        "plt.ylabel('Loss',fontsize=16)\n",
        "plt.title('Loss Curve', fontsize=16)"
      ],
      "metadata": {
        "colab": {
          "base_uri": "https://localhost:8080/",
          "height": 428
        },
        "id": "7zrACayVOxx3",
        "outputId": "6d30f036-d59c-43e1-89f3-21e4cb620170"
      },
      "execution_count": null,
      "outputs": [
        {
          "output_type": "execute_result",
          "data": {
            "text/plain": [
              "Text(0.5, 1.0, 'Loss Curve')"
            ]
          },
          "metadata": {},
          "execution_count": 15
        },
        {
          "output_type": "display_data",
          "data": {
            "text/plain": [
              "<Figure size 576x432 with 1 Axes>"
            ],
            "image/png": "[encoded data removed]"
          },
          "metadata": {
            "needs_background": "light"
          }
        }
      ]
    },
    {
      "cell_type": "code",
      "source": [
        "#accuracy curves\n",
        "plt.figure(figsize=[8,6])\n",
        "plt.plot(history.history['accuracy'],'r',linewidth=3.0)\n",
        "plt.plot(history.history['val_accuracy'],'b',linewidth=3.0)\n",
        "plt.legend(['Traning Accuracy', 'Validation Accuracy'],fontsize=18)\n",
        "plt.xlabel('Epochs', fontsize=16)\n",
        "plt.ylabel('Loss',fontsize=16)\n",
        "plt.title('Accuarcy Curve',fontsize=16)"
      ],
      "metadata": {
        "colab": {
          "base_uri": "https://localhost:8080/",
          "height": 124
        },
        "id": "MewfA3JXIb5N",
        "outputId": "86f7bc6d-d729-4b5a-bb35-b88bf8b53015"
      },
      "execution_count": null,
      "outputs": [
        {
          "output_type": "execute_result",
          "data": {
            "text/plain": [
              "Text(0.5, 1.0, 'Accuarcy Curve')"
            ]
          },
          "metadata": {},
          "execution_count": 10
        },
        {
          "output_type": "display_data",
          "data": {
            "text/plain": [
              "<Figure size 576x432 with 1 Axes>"
            ],
            "image/png": "[encoded data removed]"
          },
          "metadata": {
            "needs_background": "light"
          }
        }
      ]
    },
    {
      "cell_type": "code",
      "source": [],
      "metadata": {
        "id": "qQAxCdGLPvv7"
      },
      "execution_count": null,
      "outputs": []
    }
  ]
}