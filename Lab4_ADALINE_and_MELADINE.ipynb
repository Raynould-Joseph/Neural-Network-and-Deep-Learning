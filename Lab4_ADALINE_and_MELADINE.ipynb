{
  "nbformat": 4,
  "nbformat_minor": 0,
  "metadata": {
    "colab": {
      "provenance": [],
      "authorship_tag": "ABX9TyPlzPgdI9I5uuFqJywDHKsP",
      "include_colab_link": true
    },
    "kernelspec": {
      "name": "python3",
      "display_name": "Python 3"
    },
    "language_info": {
      "name": "python"
    }
  },
  "cells": [
    {
      "cell_type": "markdown",
      "metadata": {
        "id": "view-in-github",
        "colab_type": "text"
      },
      "source": [
        "<a href=\"https://colab.research.google.com/github/Raynould-Joseph/Neural-Network-and-Deep-Learning/blob/main/Lab4_ADALINE_and_MELADINE.ipynb\" target=\"_parent\"><img src=\"https://colab.research.google.com/assets/colab-badge.svg\" alt=\"Open In Colab\"/></a>"
      ]
    },
    {
      "cell_type": "markdown",
      "source": [
        "Implementation of ADALINE Network"
      ],
      "metadata": {
        "id": "85KEDdg85_3m"
      }
    },
    {
      "cell_type": "code",
      "execution_count": null,
      "metadata": {
        "id": "B5po_xr_5drs"
      },
      "outputs": [],
      "source": []
    },
    {
      "cell_type": "markdown",
      "source": [
        "Implement Madaline for AND function"
      ],
      "metadata": {
        "id": "bxpA4gEK6mM-"
      }
    },
    {
      "cell_type": "code",
      "source": [],
      "metadata": {
        "id": "YWDDgwcb6tkQ"
      },
      "execution_count": null,
      "outputs": []
    }
  ]
}