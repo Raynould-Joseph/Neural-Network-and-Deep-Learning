{
  "nbformat": 4,
  "nbformat_minor": 0,
  "metadata": {
    "colab": {
      "provenance": [],
      "authorship_tag": "ABX9TyPuqQQz8m1sOlrsUEpgVqH4",
      "include_colab_link": true
    },
    "kernelspec": {
      "name": "python3",
      "display_name": "Python 3"
    },
    "language_info": {
      "name": "python"
    }
  },
  "cells": [
    {
      "cell_type": "markdown",
      "metadata": {
        "id": "view-in-github",
        "colab_type": "text"
      },
      "source": [
        "<a href=\"https://colab.research.google.com/github/Raynould-Joseph/Neural-Network-and-Deep-Learning/blob/main/MLP_classifier_Lab_3.ipynb\" target=\"_parent\"><img src=\"https://colab.research.google.com/assets/colab-badge.svg\" alt=\"Open In Colab\"/></a>"
      ]
    },
    {
      "cell_type": "markdown",
      "source": [
        "# 1. Explore MLP classifier\n",
        "# 2. Give a summary of all the parameters used in MLP classifier.\n",
        "# 3. Classify an XOR problem using the multilayer perceptron Network\n",
        "# 4. Use atleast 3 different activation functions and give your inference.\n",
        "# 5. Print the final weight values"
      ],
      "metadata": {
        "id": "YjXuhjeT6OSx"
      }
    },
    {
      "cell_type": "markdown",
      "source": [
        "# 1. Explore MLP classifier\n"
      ],
      "metadata": {
        "id": "KDB1WqzS6a8t"
      }
    },
    {
      "cell_type": "code",
      "execution_count": null,
      "metadata": {
        "id": "slXakOBx5Yvq"
      },
      "outputs": [],
      "source": []
    },
    {
      "cell_type": "markdown",
      "source": [
        "# 2. Give a summary of all the parameters used in MLP classifier[link text]"
      ],
      "metadata": {
        "id": "NL0A9e4-6hRi"
      }
    },
    {
      "cell_type": "code",
      "source": [],
      "metadata": {
        "id": "MQvT1LFp6kbo"
      },
      "execution_count": null,
      "outputs": []
    },
    {
      "cell_type": "markdown",
      "source": [
        "# 3. Classify an XOR problem using the multilayer perceptron Network"
      ],
      "metadata": {
        "id": "Mny1vbET6M6i"
      }
    },
    {
      "cell_type": "code",
      "source": [],
      "metadata": {
        "id": "o7muQRH26tB4"
      },
      "execution_count": null,
      "outputs": []
    },
    {
      "cell_type": "markdown",
      "source": [
        "# 4. Use atleast 3 different activation functions and give your inference."
      ],
      "metadata": {
        "id": "gMHBufaP6L_9"
      }
    },
    {
      "cell_type": "code",
      "source": [],
      "metadata": {
        "id": "qwalckOb6yPe"
      },
      "execution_count": null,
      "outputs": []
    },
    {
      "cell_type": "markdown",
      "source": [
        "# 5. Print the final weight values"
      ],
      "metadata": {
        "id": "VkAwPzYJ6LPb"
      }
    },
    {
      "cell_type": "code",
      "source": [],
      "metadata": {
        "id": "CINHoICw628U"
      },
      "execution_count": null,
      "outputs": []
    }
  ]
}