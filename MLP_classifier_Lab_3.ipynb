{
  "nbformat": 4,
  "nbformat_minor": 0,
  "metadata": {
    "colab": {
      "provenance": [],
      "authorship_tag": "ABX9TyNgayKwA0W6AxgFbiVCiyeq",
      "include_colab_link": true
    },
    "kernelspec": {
      "name": "python3",
      "display_name": "Python 3"
    },
    "language_info": {
      "name": "python"
    }
  },
  "cells": [
    {
      "cell_type": "markdown",
      "metadata": {
        "id": "view-in-github",
        "colab_type": "text"
      },
      "source": [
        "<a href=\"https://colab.research.google.com/github/Raynould-Joseph/Neural-Network-and-Deep-Learning/blob/main/MLP_classifier_Lab_3.ipynb\" target=\"_parent\"><img src=\"https://colab.research.google.com/assets/colab-badge.svg\" alt=\"Open In Colab\"/></a>"
      ]
    },
    {
      "cell_type": "markdown",
      "source": [
        "# 1. Explore MLP classifier\n",
        "# 2. Give a summary of all the parameters used in MLP classifier.\n",
        "# 3. Classify an XOR problem using the multilayer perceptron Network\n",
        "# 4. Use atleast 3 different activation functions and give your inference.\n",
        "# 5. Print the final weight values"
      ],
      "metadata": {
        "id": "YjXuhjeT6OSx"
      }
    },
    {
      "cell_type": "markdown",
      "source": [
        "# 1. Explore MLP classifier\n"
      ],
      "metadata": {
        "id": "KDB1WqzS6a8t"
      }
    },
    {
      "cell_type": "code",
      "execution_count": null,
      "metadata": {
        "id": "slXakOBx5Yvq"
      },
      "outputs": [],
      "source": []
    },
    {
      "cell_type": "markdown",
      "source": [
        "# 2. Give a summary of all the parameters used in MLP classifier"
      ],
      "metadata": {
        "id": "NL0A9e4-6hRi"
      }
    },
    {
      "cell_type": "code",
      "source": [
        "from itertools import cycle\n",
        "import matplotlib.pyplot as plt\n",
        "import seaborn as sns\n",
        "import numpy as np\n",
        "train_data = np.array(\n",
        "    [\n",
        "        [0, 0],\n",
        "        [0, 1],\n",
        "        [1, 0],\n",
        "        [1, 1]])\n",
        "\n",
        "target_xor = np.array(\n",
        "    [\n",
        "        [0],\n",
        "        [1],\n",
        "        [1],\n",
        "        [0]])\n",
        "\n",
        "target_nand = np.array(\n",
        "    [\n",
        "        [1],\n",
        "        [1],\n",
        "        [1],\n",
        "        [0]])\n",
        "\n",
        "target_or = np.array(\n",
        "    [\n",
        "        [0],\n",
        "        [1],\n",
        "        [1],\n",
        "        [1]])\n",
        "\n",
        "target_and = np.array(\n",
        "    [\n",
        "        [0],\n",
        "        [0],\n",
        "        [0],\n",
        "        [1]])\n",
        "def train(self):\n",
        "    \"\"\"\n",
        "    Train a single layer perceptron.\n",
        "    \"\"\"\n",
        "    # the number of consecutive correct classifications\n",
        "    correct_counter = 0\n",
        "\n",
        "    for train, target in cycle(zip(self.train_data, self.target)):\n",
        "        # end if all points are correctly classified\n",
        "        if correct_counter == len(self.train_data):\n",
        "            break\n",
        "\n",
        "        output = self.classify(train)\n",
        "        self.node_val = train\n",
        "\n",
        "        if output == target:\n",
        "            correct_counter += 1\n",
        "        else:\n",
        "            # if incorrectly classified, update weights and reset correct_counter\n",
        "            self.update_weights(target, output)\n",
        "            correct_counter = 0\n",
        "def _gradient(self, node, exp, output):\n",
        "    \"\"\"\n",
        "    Return the gradient for a weight.\n",
        "    This is the value of delta-w.\n",
        "    \"\"\"\n",
        "    return node * (exp - output)\n",
        "\n",
        "def update_weights(self, exp, output):\n",
        "    \"\"\"\n",
        "    Update weights and bias based on their respective gradients\n",
        "    \"\"\"\n",
        "    for i in range(self.input_nodes):\n",
        "        self.w[i] += self.lr * self._gradient(self.node_val[i], exp, output)\n",
        "\n",
        "    # the value of the bias node can be considered as being 1 and the weight between this node\n",
        "    # and the output node being self.b\n",
        "    self.b += self.lr * self._gradient(1, exp, output)\n",
        "\n",
        "def forward(self, datapoint):\n",
        "    \"\"\"\n",
        "    One forward pass through the perceptron.\n",
        "    Implementation of \"wX + b\".\n",
        "    \"\"\"\n",
        "    return self.b + np.dot(self.w, datapoint)\n",
        "\n",
        "def classify(self, datapoint):\n",
        "    \"\"\"\n",
        "    Return the class to which a datapoint belongs based on\n",
        "    the perceptron's output for that point.\n",
        "    \"\"\"\n",
        "    if self.forward(datapoint) >= 0:\n",
        "        return 1\n",
        "def plot(self, h=0.01):\n",
        "    \"\"\"\n",
        "    Generate plot of input data and decision boundary.\n",
        "    \"\"\"\n",
        "    # setting plot properties like size, theme and axis limits\n",
        "    sns.set_style('darkgrid')\n",
        "    plt.figure(figsize=(20, 20))\n",
        "\n",
        "    plt.axis('scaled')\n",
        "    plt.xlim(-0.1, 1.1)\n",
        "    plt.ylim(-0.1, 1.1)\n",
        "\n",
        "    colors = {\n",
        "        0: \"ro\",\n",
        "        1: \"go\"\n",
        "    }\n",
        "\n",
        "    # plotting the four datapoints\n",
        "    for i in range(len(self.train_data)):\n",
        "        plt.plot([self.train_data[i][0]],\n",
        "                 [self.train_data[i][1]],\n",
        "                 colors[self.target[i][0]],\n",
        "                 markersize=20)\n",
        "\n",
        "    x_range = np.arange(-0.1, 1.1, h)\n",
        "    y_range = np.arange(-0.1, 1.1, h)\n",
        "\n",
        "    # creating a mesh to plot decision boundary\n",
        "    xx, yy = np.meshgrid(x_range, y_range, indexing='ij')\n",
        "    Z = np.array([[self.classify([x, y]) for x in x_range] for y in y_range])\n",
        "\n",
        "    # using the contourf function to create the plot\n",
        "    plt.contourf(xx, yy, Z, colors=['red', 'green', 'green', 'blue'], alpha=0.4)        \n"
      ],
      "metadata": {
        "id": "MQvT1LFp6kbo"
      },
      "execution_count": null,
      "outputs": []
    },
    {
      "cell_type": "markdown",
      "source": [
        "# 3. Classify an XOR problem using the multilayer perceptron Network"
      ],
      "metadata": {
        "id": "Mny1vbET6M6i"
      }
    },
    {
      "cell_type": "code",
      "source": [],
      "metadata": {
        "id": "o7muQRH26tB4"
      },
      "execution_count": null,
      "outputs": []
    },
    {
      "cell_type": "markdown",
      "source": [
        "# 4. Use atleast 3 different activation functions and give your inference."
      ],
      "metadata": {
        "id": "gMHBufaP6L_9"
      }
    },
    {
      "cell_type": "code",
      "source": [],
      "metadata": {
        "id": "qwalckOb6yPe"
      },
      "execution_count": null,
      "outputs": []
    },
    {
      "cell_type": "markdown",
      "source": [
        "# 5. Print the final weight values"
      ],
      "metadata": {
        "id": "VkAwPzYJ6LPb"
      }
    },
    {
      "cell_type": "code",
      "source": [],
      "metadata": {
        "id": "CINHoICw628U"
      },
      "execution_count": null,
      "outputs": []
    }
  ]
}