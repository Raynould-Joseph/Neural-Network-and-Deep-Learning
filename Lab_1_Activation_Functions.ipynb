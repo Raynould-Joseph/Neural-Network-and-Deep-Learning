{
  "nbformat": 4,
  "nbformat_minor": 0,
  "metadata": {
    "colab": {
      "provenance": [],
      "authorship_tag": "ABX9TyOjoRe/W2vGc6L5gDrXVAuZ",
      "include_colab_link": true
    },
    "kernelspec": {
      "name": "python3",
      "display_name": "Python 3"
    },
    "language_info": {
      "name": "python"
    }
  },
  "cells": [
    {
      "cell_type": "markdown",
      "metadata": {
        "id": "view-in-github",
        "colab_type": "text"
      },
      "source": [
        "<a href=\"https://colab.research.google.com/github/Raynould-Joseph/Neural-Network-and-Deep-Learning/blob/main/Lab_1_Activation_Functions.ipynb\" target=\"_parent\"><img src=\"https://colab.research.google.com/assets/colab-badge.svg\" alt=\"Open In Colab\"/></a>"
      ]
    },
    {
      "cell_type": "code",
      "execution_count": 4,
      "metadata": {
        "colab": {
          "base_uri": "https://localhost:8080/",
          "height": 265
        },
        "id": "UOfdUS83d4D4",
        "outputId": "70aba541-9e35-4b70-c0ff-41fee820163b"
      },
      "outputs": [
        {
          "output_type": "display_data",
          "data": {
            "text/plain": [
              "<Figure size 432x288 with 1 Axes>"
            ],
            "image/png": "[encoded data removed]"
          },
          "metadata": {
            "needs_background": "light"
          }
        }
      ],
      "source": [
        "# example plot for the sigmoid activation function\n",
        "from math import exp\n",
        "from matplotlib import pyplot\n",
        "\n",
        "# sigmoid activation function\n",
        "def sigmoid(x):\n",
        "\treturn 1.0 / (1.0 + exp(-x))\n",
        "\n",
        "# define input data\n",
        "inputs = [x for x in range(-10, 15,1)]\n",
        "# calculate outputs\n",
        "outputs = [sigmoid(x) for x in inputs]\n",
        "# plot inputs vs outputs\n",
        "pyplot.plot(inputs, outputs)\n",
        "pyplot.show()"
      ]
    },
    {
      "cell_type": "code",
      "source": [],
      "metadata": {
        "id": "QbmPdRdggixG"
      },
      "execution_count": null,
      "outputs": []
    }
  ]
}