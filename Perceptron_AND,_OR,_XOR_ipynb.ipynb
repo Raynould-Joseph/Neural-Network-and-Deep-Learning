{
  "nbformat": 4,
  "nbformat_minor": 0,
  "metadata": {
    "colab": {
      "provenance": [],
      "authorship_tag": "ABX9TyOm3W6dAtn61eH3Y8OXAtra",
      "include_colab_link": true
    },
    "kernelspec": {
      "name": "python3",
      "display_name": "Python 3"
    },
    "language_info": {
      "name": "python"
    }
  },
  "cells": [
    {
      "cell_type": "markdown",
      "metadata": {
        "id": "view-in-github",
        "colab_type": "text"
      },
      "source": [
        "<a href=\"https://colab.research.google.com/github/Raynould-Joseph/Neural-Network-and-Deep-Learning/blob/main/Perceptron_AND%2C_OR%2C_XOR_ipynb.ipynb\" target=\"_parent\"><img src=\"https://colab.research.google.com/assets/colab-badge.svg\" alt=\"Open In Colab\"/></a>"
      ]
    },
    {
      "cell_type": "code",
      "execution_count": 2,
      "metadata": {
        "id": "nHuWPKfa0mMq"
      },
      "outputs": [],
      "source": [
        "inputdata=[[0,0],[0,1],[1,0],[1,1]]\n",
        "w1=1.5\n",
        "w2=0.5\n",
        "w0 =-0.5\n"
      ]
    },
    {
      "cell_type": "code",
      "source": [
        "#Expected values of login operations\n",
        "def andOpration(list1)->list:\n",
        "  li=[]\n",
        "  for i in list1:\n",
        "    li.append(i[0]*i[1])\n",
        "  return li\n",
        "\n",
        "def orOpration(list1)->list:\n",
        "  li=[]\n",
        "  for i in list1:\n",
        "    li.append(i[0]+i[1] if i[0]+i[1]!=2 else 1)\n",
        "  return li  \n",
        "\n",
        "def xorOperation(list1)->list:\n",
        "  li=[]\n",
        "  for i in list1:\n",
        "    li.append(1 if i.count(0)==1 and i.count(1)==1 else 0)\n",
        "  return li\n",
        "\n",
        "print(andOpration(inputdata))  \n",
        "print(orOpration(inputdata))\n",
        "print(xorOperation(inputdata))\n",
        "\n",
        "\n",
        "    \n",
        "\n"
      ],
      "metadata": {
        "id": "AJAhkaG0ypS3",
        "outputId": "02baf1cb-e0cf-412e-cbb0-6d9b0eab2340",
        "colab": {
          "base_uri": "https://localhost:8080/"
        }
      },
      "execution_count": 3,
      "outputs": [
        {
          "output_type": "stream",
          "name": "stdout",
          "text": [
            "[0, 0, 0, 1]\n",
            "[0, 1, 1, 1]\n",
            "[0, 1, 1, 0]\n"
          ]
        }
      ]
    },
    {
      "cell_type": "code",
      "source": [
        "#calculated values\n",
        "output=[]\n",
        "for i in inputdata:\n",
        "  output.append((i[0]*w1)+(i[1]*w2)+w0)\n",
        "print(output)  \n"
      ],
      "metadata": {
        "id": "O4j2mPX0yrvL",
        "outputId": "3f586c73-b326-4387-d7aa-3a094a6253b9",
        "colab": {
          "base_uri": "https://localhost:8080/"
        }
      },
      "execution_count": 4,
      "outputs": [
        {
          "output_type": "stream",
          "name": "stdout",
          "text": [
            "[-0.5, 0.0, 1.0, 1.5]\n"
          ]
        }
      ]
    },
    {
      "cell_type": "code",
      "source": [
        "andlist=andOpration(inputdata)\n",
        "error=0\n",
        "for i in range(len(andOpration(inputdata))):\n",
        "  print(f\"{andlist[i]}- {output[i]}\")\n",
        "  error+=andlist[i]-output[i]\n",
        "print(f\"Error is {error}\")  "
      ],
      "metadata": {
        "id": "Xpj47slGyrl6",
        "outputId": "150de6f1-a9fd-4857-d9be-aefc1a75c99a",
        "colab": {
          "base_uri": "https://localhost:8080/"
        }
      },
      "execution_count": 5,
      "outputs": [
        {
          "output_type": "stream",
          "name": "stdout",
          "text": [
            "0- -0.5\n",
            "0- 0.0\n",
            "0- 1.0\n",
            "1- 1.5\n",
            "Error is -1.0\n"
          ]
        }
      ]
    },
    {
      "cell_type": "code",
      "source": [
        "orlist=orOpration(inputdata)\n",
        "error=0\n",
        "for i in range(len(orOpration(inputdata))):\n",
        "  print(f\"{orlist[i]}- {output[i]}\")\n",
        "  error+=orlist[i]-output[i]\n",
        "print(f\"Error is {error}\")  "
      ],
      "metadata": {
        "id": "9IcgJfbJyuGR",
        "outputId": "08af962f-ae1a-4b6c-d7ea-88c0bca1de03",
        "colab": {
          "base_uri": "https://localhost:8080/"
        }
      },
      "execution_count": null,
      "outputs": [
        {
          "output_type": "stream",
          "name": "stdout",
          "text": [
            "0- -0.5\n",
            "1- 0.0\n",
            "1- 1.0\n",
            "1- 1.5\n",
            "Error is 1.0\n"
          ]
        }
      ]
    },
    {
      "cell_type": "code",
      "source": [
        "xorlist=xorOperation(inputdata)\n",
        "error=0\n",
        "for i in range(len(xorOperation(inputdata))):\n",
        "  print(f\"{xorlist[i]}- {output[i]}\")\n",
        "  error+=xorlist[i]-output[i]\n",
        "print(f\"Error is {error}\")  "
      ],
      "metadata": {
        "id": "31i1t3Oay4rX",
        "outputId": "47c493a3-64d1-41e5-88a2-1b28887615dd",
        "colab": {
          "base_uri": "https://localhost:8080/"
        }
      },
      "execution_count": null,
      "outputs": [
        {
          "output_type": "stream",
          "name": "stdout",
          "text": [
            "0- -0.5\n",
            "1- 0.0\n",
            "1- 1.0\n",
            "0- 1.5\n",
            "Error is 0.0\n"
          ]
        }
      ]
    },
    {
      "cell_type": "code",
      "source": [
        "class And_operation:\n",
        "  def __init__(self):\n",
        "    w1=1.5\n",
        "    w2=0.5\n",
        "    w0 = -0.5\n",
        "    input=[[0,0],[0,1],[1,0],[1,1]]\n",
        "  def inputNeuron1(self,x1)->float:\n",
        "      return x1[0]*w1\n",
        "\n",
        "  def inputNeuron2(self,x2)->float:\n",
        "      return x2[0]*w2\n",
        "\n",
        "  def outputNeuron(x11,x22)->float:\n",
        "    return x11+x22+w0\n"
      ],
      "metadata": {
        "id": "bSz-FNrwy6zW"
      },
      "execution_count": null,
      "outputs": []
    }
  ]
}